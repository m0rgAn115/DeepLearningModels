{
  "cells": [
    {
      "cell_type": "markdown",
      "metadata": {
        "id": "uYdOSmERCQYQ"
      },
      "source": [
        "# Preparing the data"
      ]
    },
    {
      "cell_type": "markdown",
      "metadata": {
        "id": "Ii6AOQi8CIQt"
      },
      "source": [
        "Importing libraries"
      ]
    },
    {
      "cell_type": "code",
      "execution_count": 103,
      "metadata": {
        "id": "vrEHN_jtkpDM"
      },
      "outputs": [],
      "source": [
        "import tensorflow as tf\n",
        "import matplotlib.pyplot as plt\n",
        "import numpy as np"
      ]
    },
    {
      "cell_type": "markdown",
      "metadata": {
        "id": "jA1Pf7dPCLr-"
      },
      "source": [
        "Getting the data from mnist dataset"
      ]
    },
    {
      "cell_type": "code",
      "execution_count": 104,
      "metadata": {
        "id": "ul9CPgyClM4y"
      },
      "outputs": [],
      "source": [
        "from tensorflow.keras.datasets import mnist\n",
        "(train_data, train_labels), (test_data, test_labels) = mnist.load_data()"
      ]
    },
    {
      "cell_type": "code",
      "execution_count": null,
      "metadata": {
        "colab": {
          "base_uri": "https://localhost:8080/"
        },
        "id": "5hiR3fvoljkX",
        "outputId": "29743ccf-2d02-4ab8-c262-9f35fc0eed80"
      },
      "outputs": [
        {
          "output_type": "stream",
          "name": "stdout",
          "text": [
            "Training sample:\n",
            "[[  0   0   0   0   0   0   0   0   0   0   0   0   0   0   0   0   0   0\n",
            "    0   0   0   0   0   0   0   0   0   0]\n",
            " [  0   0   0   0   0   0   0   0   0   0   0   0   0   0   0   0   0   0\n",
            "    0   0   0   0   0   0   0   0   0   0]\n",
            " [  0   0   0   0   0   0   0   0   0   0   0   0   0   0   0   0   0   0\n",
            "    0   0   0   0   0   0   0   0   0   0]\n",
            " [  0   0   0   0   0   0   0   0   0   0   0   0   0   0   0   0   0   0\n",
            "    0   0   0   0   0   0   0   0   0   0]\n",
            " [  0   0   0   0   0   0   0   0   0   0   0   0   0   0   0   0   0   0\n",
            "    0   0   0   0   0   0   0   0   0   0]\n",
            " [  0   0   0   0   0   0   0   0   0   0   0   0   3  18  18  18 126 136\n",
            "  175  26 166 255 247 127   0   0   0   0]\n",
            " [  0   0   0   0   0   0   0   0  30  36  94 154 170 253 253 253 253 253\n",
            "  225 172 253 242 195  64   0   0   0   0]\n",
            " [  0   0   0   0   0   0   0  49 238 253 253 253 253 253 253 253 253 251\n",
            "   93  82  82  56  39   0   0   0   0   0]\n",
            " [  0   0   0   0   0   0   0  18 219 253 253 253 253 253 198 182 247 241\n",
            "    0   0   0   0   0   0   0   0   0   0]\n",
            " [  0   0   0   0   0   0   0   0  80 156 107 253 253 205  11   0  43 154\n",
            "    0   0   0   0   0   0   0   0   0   0]\n",
            " [  0   0   0   0   0   0   0   0   0  14   1 154 253  90   0   0   0   0\n",
            "    0   0   0   0   0   0   0   0   0   0]\n",
            " [  0   0   0   0   0   0   0   0   0   0   0 139 253 190   2   0   0   0\n",
            "    0   0   0   0   0   0   0   0   0   0]\n",
            " [  0   0   0   0   0   0   0   0   0   0   0  11 190 253  70   0   0   0\n",
            "    0   0   0   0   0   0   0   0   0   0]\n",
            " [  0   0   0   0   0   0   0   0   0   0   0   0  35 241 225 160 108   1\n",
            "    0   0   0   0   0   0   0   0   0   0]\n",
            " [  0   0   0   0   0   0   0   0   0   0   0   0   0  81 240 253 253 119\n",
            "   25   0   0   0   0   0   0   0   0   0]\n",
            " [  0   0   0   0   0   0   0   0   0   0   0   0   0   0  45 186 253 253\n",
            "  150  27   0   0   0   0   0   0   0   0]\n",
            " [  0   0   0   0   0   0   0   0   0   0   0   0   0   0   0  16  93 252\n",
            "  253 187   0   0   0   0   0   0   0   0]\n",
            " [  0   0   0   0   0   0   0   0   0   0   0   0   0   0   0   0   0 249\n",
            "  253 249  64   0   0   0   0   0   0   0]\n",
            " [  0   0   0   0   0   0   0   0   0   0   0   0   0   0  46 130 183 253\n",
            "  253 207   2   0   0   0   0   0   0   0]\n",
            " [  0   0   0   0   0   0   0   0   0   0   0   0  39 148 229 253 253 253\n",
            "  250 182   0   0   0   0   0   0   0   0]\n",
            " [  0   0   0   0   0   0   0   0   0   0  24 114 221 253 253 253 253 201\n",
            "   78   0   0   0   0   0   0   0   0   0]\n",
            " [  0   0   0   0   0   0   0   0  23  66 213 253 253 253 253 198  81   2\n",
            "    0   0   0   0   0   0   0   0   0   0]\n",
            " [  0   0   0   0   0   0  18 171 219 253 253 253 253 195  80   9   0   0\n",
            "    0   0   0   0   0   0   0   0   0   0]\n",
            " [  0   0   0   0  55 172 226 253 253 253 253 244 133  11   0   0   0   0\n",
            "    0   0   0   0   0   0   0   0   0   0]\n",
            " [  0   0   0   0 136 253 253 253 212 135 132  16   0   0   0   0   0   0\n",
            "    0   0   0   0   0   0   0   0   0   0]\n",
            " [  0   0   0   0   0   0   0   0   0   0   0   0   0   0   0   0   0   0\n",
            "    0   0   0   0   0   0   0   0   0   0]\n",
            " [  0   0   0   0   0   0   0   0   0   0   0   0   0   0   0   0   0   0\n",
            "    0   0   0   0   0   0   0   0   0   0]\n",
            " [  0   0   0   0   0   0   0   0   0   0   0   0   0   0   0   0   0   0\n",
            "    0   0   0   0   0   0   0   0   0   0]]\n",
            "\n",
            "Training sample:\n",
            "5\n",
            "\n"
          ]
        }
      ],
      "source": [
        "# Show the first training example\n",
        "print(f\"Training sample:\\n{train_data[0]}\\n\")\n",
        "print(f\"Training sample:\\n{train_labels[0]}\\n\")"
      ]
    },
    {
      "cell_type": "code",
      "execution_count": null,
      "metadata": {
        "colab": {
          "base_uri": "https://localhost:8080/",
          "height": 68
        },
        "id": "K7DpkrOJGzP4",
        "outputId": "b1a01f11-cd26-4a0e-b169-385dc15df40a"
      },
      "outputs": [
        {
          "output_type": "execute_result",
          "data": {
            "text/plain": [
              "array([[  0,   0,   0,   0,   0,   0,   0,   0,   0,   0,   0,   0,   0,\n",
              "          0,   0,   0,   0,   0,   0,   0,   0,   0,   0,   0,   0,   0,\n",
              "          0,   0],\n",
              "       [  0,   0,   0,   0,   0,   0,   0,   0,   0,   0,   0,   0,   0,\n",
              "          0,   0,   0,   0,   0,   0,   0,   0,   0,   0,   0,   0,   0,\n",
              "          0,   0],\n",
              "       [  0,   0,   0,   0,   0,   0,   0,   0,   0,   0,   0,   0,   0,\n",
              "          0,   0,   0,   0,   0,   0,   0,   0,   0,   0,   0,   0,   0,\n",
              "          0,   0],\n",
              "       [  0,   0,   0,   0,   0,   0,   0,   0,   0,   0,   0,   0,   0,\n",
              "          0,   0,   0,   0,   0,   0,   0,   0,   0,   0,   0,   0,   0,\n",
              "          0,   0],\n",
              "       [  0,   0,   0,   0,   0,   0,   0,   0,   0,   0,   0,   0,   0,\n",
              "          0,   0,   0,   0,   0,   0,   0,   0,   0,   0,   0,   0,   0,\n",
              "          0,   0],\n",
              "       [  0,   0,   0,   0,   0,   0,   0,   0,   0,   0,   0,   0,   3,\n",
              "         18,  18,  18, 126, 136, 175,  26, 166, 255, 247, 127,   0,   0,\n",
              "          0,   0],\n",
              "       [  0,   0,   0,   0,   0,   0,   0,   0,  30,  36,  94, 154, 170,\n",
              "        253, 253, 253, 253, 253, 225, 172, 253, 242, 195,  64,   0,   0,\n",
              "          0,   0],\n",
              "       [  0,   0,   0,   0,   0,   0,   0,  49, 238, 253, 253, 253, 253,\n",
              "        253, 253, 253, 253, 251,  93,  82,  82,  56,  39,   0,   0,   0,\n",
              "          0,   0],\n",
              "       [  0,   0,   0,   0,   0,   0,   0,  18, 219, 253, 253, 253, 253,\n",
              "        253, 198, 182, 247, 241,   0,   0,   0,   0,   0,   0,   0,   0,\n",
              "          0,   0],\n",
              "       [  0,   0,   0,   0,   0,   0,   0,   0,  80, 156, 107, 253, 253,\n",
              "        205,  11,   0,  43, 154,   0,   0,   0,   0,   0,   0,   0,   0,\n",
              "          0,   0],\n",
              "       [  0,   0,   0,   0,   0,   0,   0,   0,   0,  14,   1, 154, 253,\n",
              "         90,   0,   0,   0,   0,   0,   0,   0,   0,   0,   0,   0,   0,\n",
              "          0,   0],\n",
              "       [  0,   0,   0,   0,   0,   0,   0,   0,   0,   0,   0, 139, 253,\n",
              "        190,   2,   0,   0,   0,   0,   0,   0,   0,   0,   0,   0,   0,\n",
              "          0,   0],\n",
              "       [  0,   0,   0,   0,   0,   0,   0,   0,   0,   0,   0,  11, 190,\n",
              "        253,  70,   0,   0,   0,   0,   0,   0,   0,   0,   0,   0,   0,\n",
              "          0,   0],\n",
              "       [  0,   0,   0,   0,   0,   0,   0,   0,   0,   0,   0,   0,  35,\n",
              "        241, 225, 160, 108,   1,   0,   0,   0,   0,   0,   0,   0,   0,\n",
              "          0,   0],\n",
              "       [  0,   0,   0,   0,   0,   0,   0,   0,   0,   0,   0,   0,   0,\n",
              "         81, 240, 253, 253, 119,  25,   0,   0,   0,   0,   0,   0,   0,\n",
              "          0,   0],\n",
              "       [  0,   0,   0,   0,   0,   0,   0,   0,   0,   0,   0,   0,   0,\n",
              "          0,  45, 186, 253, 253, 150,  27,   0,   0,   0,   0,   0,   0,\n",
              "          0,   0],\n",
              "       [  0,   0,   0,   0,   0,   0,   0,   0,   0,   0,   0,   0,   0,\n",
              "          0,   0,  16,  93, 252, 253, 187,   0,   0,   0,   0,   0,   0,\n",
              "          0,   0],\n",
              "       [  0,   0,   0,   0,   0,   0,   0,   0,   0,   0,   0,   0,   0,\n",
              "          0,   0,   0,   0, 249, 253, 249,  64,   0,   0,   0,   0,   0,\n",
              "          0,   0],\n",
              "       [  0,   0,   0,   0,   0,   0,   0,   0,   0,   0,   0,   0,   0,\n",
              "          0,  46, 130, 183, 253, 253, 207,   2,   0,   0,   0,   0,   0,\n",
              "          0,   0],\n",
              "       [  0,   0,   0,   0,   0,   0,   0,   0,   0,   0,   0,   0,  39,\n",
              "        148, 229, 253, 253, 253, 250, 182,   0,   0,   0,   0,   0,   0,\n",
              "          0,   0],\n",
              "       [  0,   0,   0,   0,   0,   0,   0,   0,   0,   0,  24, 114, 221,\n",
              "        253, 253, 253, 253, 201,  78,   0,   0,   0,   0,   0,   0,   0,\n",
              "          0,   0],\n",
              "       [  0,   0,   0,   0,   0,   0,   0,   0,  23,  66, 213, 253, 253,\n",
              "        253, 253, 198,  81,   2,   0,   0,   0,   0,   0,   0,   0,   0,\n",
              "          0,   0],\n",
              "       [  0,   0,   0,   0,   0,   0,  18, 171, 219, 253, 253, 253, 253,\n",
              "        195,  80,   9,   0,   0,   0,   0,   0,   0,   0,   0,   0,   0,\n",
              "          0,   0],\n",
              "       [  0,   0,   0,   0,  55, 172, 226, 253, 253, 253, 253, 244, 133,\n",
              "         11,   0,   0,   0,   0,   0,   0,   0,   0,   0,   0,   0,   0,\n",
              "          0,   0],\n",
              "       [  0,   0,   0,   0, 136, 253, 253, 253, 212, 135, 132,  16,   0,\n",
              "          0,   0,   0,   0,   0,   0,   0,   0,   0,   0,   0,   0,   0,\n",
              "          0,   0],\n",
              "       [  0,   0,   0,   0,   0,   0,   0,   0,   0,   0,   0,   0,   0,\n",
              "          0,   0,   0,   0,   0,   0,   0,   0,   0,   0,   0,   0,   0,\n",
              "          0,   0],\n",
              "       [  0,   0,   0,   0,   0,   0,   0,   0,   0,   0,   0,   0,   0,\n",
              "          0,   0,   0,   0,   0,   0,   0,   0,   0,   0,   0,   0,   0,\n",
              "          0,   0],\n",
              "       [  0,   0,   0,   0,   0,   0,   0,   0,   0,   0,   0,   0,   0,\n",
              "          0,   0,   0,   0,   0,   0,   0,   0,   0,   0,   0,   0,   0,\n",
              "          0,   0]], dtype=uint8)"
            ],
            "text/html": [
              "<style>\n",
              "      .ndarray_repr .ndarray_raw_data {\n",
              "        display: none;\n",
              "      }\n",
              "      .ndarray_repr.show_array .ndarray_raw_data {\n",
              "        display: block;\n",
              "      }\n",
              "      .ndarray_repr.show_array .ndarray_image_preview {\n",
              "        display: none;\n",
              "      }\n",
              "      </style>\n",
              "      <div id=\"id-019fc38e-308e-4c34-9c2c-c38551d18d44\" class=\"ndarray_repr\"><pre>ndarray (28, 28) <button style=\"padding: 0 2px;\">show data</button></pre><img src=\"data:image/png;base64,iVBORw0KGgoAAAANSUhEUgAAABwAAAAcCAAAAABXZoBIAAABAElEQVR4nGNgGMyAWUhIqK5jvdSy/9/rGRgYGFhgEnJsVjYCwQwMDAxPJgV+vniQgYGBgREqZ7iXH8r6l/SV4dn7m8gmCt3++/fv37/Htn3/iMW+gDnZf/+e5WbQnoXNNXyMs/5GoQoxwVmf/n9kSGFiwAW49/11wynJoPzx4YIcRlyygR/+/i2XxCWru+vv32nSuGQFYv/83Y3b4p9/fzpAmSyoMnohpiwM1w5h06Q+5enfv39/bcMiJVF09+/fv39P+mFKiTtd/fv3799jgZiBJLT69t+/f/8eDuDEkDJf8+jv379/v7Ryo4qzMDAwMAQGMjBc3/y35wM2V1IfAABFF16Aa0wAOwAAAABJRU5ErkJggg==\" class=\"ndarray_image_preview\" /><pre class=\"ndarray_raw_data\">array([[  0,   0,   0,   0,   0,   0,   0,   0,   0,   0,   0,   0,   0,\n",
              "          0,   0,   0,   0,   0,   0,   0,   0,   0,   0,   0,   0,   0,\n",
              "          0,   0],\n",
              "       [  0,   0,   0,   0,   0,   0,   0,   0,   0,   0,   0,   0,   0,\n",
              "          0,   0,   0,   0,   0,   0,   0,   0,   0,   0,   0,   0,   0,\n",
              "          0,   0],\n",
              "       [  0,   0,   0,   0,   0,   0,   0,   0,   0,   0,   0,   0,   0,\n",
              "          0,   0,   0,   0,   0,   0,   0,   0,   0,   0,   0,   0,   0,\n",
              "          0,   0],\n",
              "       [  0,   0,   0,   0,   0,   0,   0,   0,   0,   0,   0,   0,   0,\n",
              "          0,   0,   0,   0,   0,   0,   0,   0,   0,   0,   0,   0,   0,\n",
              "          0,   0],\n",
              "       [  0,   0,   0,   0,   0,   0,   0,   0,   0,   0,   0,   0,   0,\n",
              "          0,   0,   0,   0,   0,   0,   0,   0,   0,   0,   0,   0,   0,\n",
              "          0,   0],\n",
              "       [  0,   0,   0,   0,   0,   0,   0,   0,   0,   0,   0,   0,   3,\n",
              "         18,  18,  18, 126, 136, 175,  26, 166, 255, 247, 127,   0,   0,\n",
              "          0,   0],\n",
              "       [  0,   0,   0,   0,   0,   0,   0,   0,  30,  36,  94, 154, 170,\n",
              "        253, 253, 253, 253, 253, 225, 172, 253, 242, 195,  64,   0,   0,\n",
              "          0,   0],\n",
              "       [  0,   0,   0,   0,   0,   0,   0,  49, 238, 253, 253, 253, 253,\n",
              "        253, 253, 253, 253, 251,  93,  82,  82,  56,  39,   0,   0,   0,\n",
              "          0,   0],\n",
              "       [  0,   0,   0,   0,   0,   0,   0,  18, 219, 253, 253, 253, 253,\n",
              "        253, 198, 182, 247, 241,   0,   0,   0,   0,   0,   0,   0,   0,\n",
              "          0,   0],\n",
              "       [  0,   0,   0,   0,   0,   0,   0,   0,  80, 156, 107, 253, 253,\n",
              "        205,  11,   0,  43, 154,   0,   0,   0,   0,   0,   0,   0,   0,\n",
              "          0,   0],\n",
              "       [  0,   0,   0,   0,   0,   0,   0,   0,   0,  14,   1, 154, 253,\n",
              "         90,   0,   0,   0,   0,   0,   0,   0,   0,   0,   0,   0,   0,\n",
              "          0,   0],\n",
              "       [  0,   0,   0,   0,   0,   0,   0,   0,   0,   0,   0, 139, 253,\n",
              "        190,   2,   0,   0,   0,   0,   0,   0,   0,   0,   0,   0,   0,\n",
              "          0,   0],\n",
              "       [  0,   0,   0,   0,   0,   0,   0,   0,   0,   0,   0,  11, 190,\n",
              "        253,  70,   0,   0,   0,   0,   0,   0,   0,   0,   0,   0,   0,\n",
              "          0,   0],\n",
              "       [  0,   0,   0,   0,   0,   0,   0,   0,   0,   0,   0,   0,  35,\n",
              "        241, 225, 160, 108,   1,   0,   0,   0,   0,   0,   0,   0,   0,\n",
              "          0,   0],\n",
              "       [  0,   0,   0,   0,   0,   0,   0,   0,   0,   0,   0,   0,   0,\n",
              "         81, 240, 253, 253, 119,  25,   0,   0,   0,   0,   0,   0,   0,\n",
              "          0,   0],\n",
              "       [  0,   0,   0,   0,   0,   0,   0,   0,   0,   0,   0,   0,   0,\n",
              "          0,  45, 186, 253, 253, 150,  27,   0,   0,   0,   0,   0,   0,\n",
              "          0,   0],\n",
              "       [  0,   0,   0,   0,   0,   0,   0,   0,   0,   0,   0,   0,   0,\n",
              "          0,   0,  16,  93, 252, 253, 187,   0,   0,   0,   0,   0,   0,\n",
              "          0,   0],\n",
              "       [  0,   0,   0,   0,   0,   0,   0,   0,   0,   0,   0,   0,   0,\n",
              "          0,   0,   0,   0, 249, 253, 249,  64,   0,   0,   0,   0,   0,\n",
              "          0,   0],\n",
              "       [  0,   0,   0,   0,   0,   0,   0,   0,   0,   0,   0,   0,   0,\n",
              "          0,  46, 130, 183, 253, 253, 207,   2,   0,   0,   0,   0,   0,\n",
              "          0,   0],\n",
              "       [  0,   0,   0,   0,   0,   0,   0,   0,   0,   0,   0,   0,  39,\n",
              "        148, 229, 253, 253, 253, 250, 182,   0,   0,   0,   0,   0,   0,\n",
              "          0,   0],\n",
              "       [  0,   0,   0,   0,   0,   0,   0,   0,   0,   0,  24, 114, 221,\n",
              "        253, 253, 253, 253, 201,  78,   0,   0,   0,   0,   0,   0,   0,\n",
              "          0,   0],\n",
              "       [  0,   0,   0,   0,   0,   0,   0,   0,  23,  66, 213, 253, 253,\n",
              "        253, 253, 198,  81,   2,   0,   0,   0,   0,   0,   0,   0,   0,\n",
              "          0,   0],\n",
              "       [  0,   0,   0,   0,   0,   0,  18, 171, 219, 253, 253, 253, 253,\n",
              "        195,  80,   9,   0,   0,   0,   0,   0,   0,   0,   0,   0,   0,\n",
              "          0,   0],\n",
              "       [  0,   0,   0,   0,  55, 172, 226, 253, 253, 253, 253, 244, 133,\n",
              "         11,   0,   0,   0,   0,   0,   0,   0,   0,   0,   0,   0,   0,\n",
              "          0,   0],\n",
              "       [  0,   0,   0,   0, 136, 253, 253, 253, 212, 135, 132,  16,   0,\n",
              "          0,   0,   0,   0,   0,   0,   0,   0,   0,   0,   0,   0,   0,\n",
              "          0,   0],\n",
              "       [  0,   0,   0,   0,   0,   0,   0,   0,   0,   0,   0,   0,   0,\n",
              "          0,   0,   0,   0,   0,   0,   0,   0,   0,   0,   0,   0,   0,\n",
              "          0,   0],\n",
              "       [  0,   0,   0,   0,   0,   0,   0,   0,   0,   0,   0,   0,   0,\n",
              "          0,   0,   0,   0,   0,   0,   0,   0,   0,   0,   0,   0,   0,\n",
              "          0,   0],\n",
              "       [  0,   0,   0,   0,   0,   0,   0,   0,   0,   0,   0,   0,   0,\n",
              "          0,   0,   0,   0,   0,   0,   0,   0,   0,   0,   0,   0,   0,\n",
              "          0,   0]], dtype=uint8)</pre></div><script>\n",
              "      (() => {\n",
              "      const titles = ['show data', 'hide data'];\n",
              "      let index = 0\n",
              "      document.querySelector('#id-019fc38e-308e-4c34-9c2c-c38551d18d44 button').onclick = (e) => {\n",
              "        document.querySelector('#id-019fc38e-308e-4c34-9c2c-c38551d18d44').classList.toggle('show_array');\n",
              "        index = (++index) % 2;\n",
              "        document.querySelector('#id-019fc38e-308e-4c34-9c2c-c38551d18d44 button').textContent = titles[index];\n",
              "        e.preventDefault();\n",
              "        e.stopPropagation();\n",
              "      }\n",
              "      })();\n",
              "    </script>"
            ]
          },
          "metadata": {},
          "execution_count": 5
        }
      ],
      "source": [
        "train_data[0]"
      ]
    },
    {
      "cell_type": "code",
      "execution_count": null,
      "metadata": {
        "colab": {
          "base_uri": "https://localhost:8080/"
        },
        "id": "GTfsRN0Blvx5",
        "outputId": "9289d836-aee8-4922-a0b1-bdfb18840604"
      },
      "outputs": [
        {
          "output_type": "execute_result",
          "data": {
            "text/plain": [
              "(28, 28)"
            ]
          },
          "metadata": {},
          "execution_count": 6
        }
      ],
      "source": [
        "# Shape of the trainig data\n",
        "train_data[0].shape"
      ]
    },
    {
      "cell_type": "code",
      "execution_count": null,
      "metadata": {
        "colab": {
          "base_uri": "https://localhost:8080/",
          "height": 447
        },
        "id": "U_4Z6-SAl44i",
        "outputId": "3b9dde54-c1e2-4c2e-8e00-cd07f4e78760"
      },
      "outputs": [
        {
          "output_type": "execute_result",
          "data": {
            "text/plain": [
              "<matplotlib.image.AxesImage at 0x7c92c4281180>"
            ]
          },
          "metadata": {},
          "execution_count": 7
        },
        {
          "output_type": "display_data",
          "data": {
            "text/plain": [
              "<Figure size 640x480 with 1 Axes>"
            ],
            "image/png": "[encoded data removed]"
          },
          "metadata": {}
        }
      ],
      "source": [
        "# Plot a single training data\n",
        "plt.imshow(train_data[0])"
      ]
    },
    {
      "cell_type": "code",
      "execution_count": null,
      "metadata": {
        "id": "CCYIe9MQmndj"
      },
      "outputs": [],
      "source": []
    },
    {
      "cell_type": "code",
      "execution_count": null,
      "metadata": {
        "id": "6-fnMGMPmc0l"
      },
      "outputs": [],
      "source": [
        "def plotSampleWClassName(X=train_data, y=train_labels, n=0):\n",
        "  plt.imshow(X[n], cmap=plt.cm.binary)\n",
        "  plt.title(y[n])\n",
        "  plt.axis(False)"
      ]
    },
    {
      "cell_type": "code",
      "execution_count": null,
      "metadata": {
        "colab": {
          "base_uri": "https://localhost:8080/",
          "height": 428
        },
        "id": "AG2B2k6jm3NM",
        "outputId": "fbc18f3e-071c-4483-aea9-3542cc3018af"
      },
      "outputs": [
        {
          "output_type": "display_data",
          "data": {
            "text/plain": [
              "<Figure size 640x480 with 1 Axes>"
            ],
            "image/png": "[encoded data removed]"
          },
          "metadata": {}
        }
      ],
      "source": [
        "plotSampleWClassName(train_data,train_labels,0)"
      ]
    },
    {
      "cell_type": "code",
      "execution_count": null,
      "metadata": {
        "colab": {
          "base_uri": "https://localhost:8080/",
          "height": 598
        },
        "id": "dFcGkqGZrKq4",
        "outputId": "de5edf4f-78cf-4fe0-c135-7c40ee9d9da5"
      },
      "outputs": [
        {
          "output_type": "display_data",
          "data": {
            "text/plain": [
              "<Figure size 700x700 with 4 Axes>"
            ],
            "image/png": "[encoded data removed]"
          },
          "metadata": {}
        }
      ],
      "source": [
        "# Plotig multiple random images\n",
        "import random\n",
        "plt.figure(figsize=(7,7))\n",
        "for i in range(4):\n",
        "  ax = plt.subplot(2,2,i+1)\n",
        "  rand_index = random.choice(range(len(train_data)))\n",
        "  plotSampleWClassName(n=rand_index)"
      ]
    },
    {
      "cell_type": "markdown",
      "metadata": {
        "id": "AP-WUm0pCYAW"
      },
      "source": [
        "Obtaining the min and max values to normalize the data"
      ]
    },
    {
      "cell_type": "code",
      "execution_count": null,
      "metadata": {
        "colab": {
          "base_uri": "https://localhost:8080/",
          "height": 68
        },
        "id": "lG597dWuWT1A",
        "outputId": "8db72567-4703-46d0-dd77-86519a8ec191"
      },
      "outputs": [
        {
          "output_type": "execute_result",
          "data": {
            "text/plain": [
              "array([[  0,   0,   0,   0,   0,   0,   0,   0,   0,   0,   0,   0,   0,\n",
              "          0,   0,   0,   0,   0,   0,   0,   0,   0,   0,   0,   0,   0,\n",
              "          0,   0],\n",
              "       [  0,   0,   0,   0,   0,   0,   0,   0,   0,   0,   0,   0,   0,\n",
              "          0,   0,   0,   0,   0,   0,   0,   0,   0,   0,   0,   0,   0,\n",
              "          0,   0],\n",
              "       [  0,   0,   0,   0,   0,   0,   0,   0,   0,   0,   0,   0,   0,\n",
              "          0,   0,   0,   0,   0,   0,   0,   0,   0,   0,   0,   0,   0,\n",
              "          0,   0],\n",
              "       [  0,   0,   0,   0,   0,   0,   0,   0,   0,   0,   0,   0,   0,\n",
              "          0,   0,   0,   0,   0,   0,   0,   0,   0,   0,   0,   0,   0,\n",
              "          0,   0],\n",
              "       [  0,   0,   0,   0,   0,   0,   0,   0,   0,   0,   0,   0,   0,\n",
              "          0,   0,   0,   0,   0,   0,   0,   0,   0,   0,   0,   0,   0,\n",
              "          0,   0],\n",
              "       [  0,   0,   0,   0,   0,   0,   0,   0,   0,   0,   0,   0,   3,\n",
              "         18,  18,  18, 126, 136, 175,  26, 166, 255, 247, 127,   0,   0,\n",
              "          0,   0],\n",
              "       [  0,   0,   0,   0,   0,   0,   0,   0,  30,  36,  94, 154, 170,\n",
              "        253, 253, 253, 253, 253, 225, 172, 253, 242, 195,  64,   0,   0,\n",
              "          0,   0],\n",
              "       [  0,   0,   0,   0,   0,   0,   0,  49, 238, 253, 253, 253, 253,\n",
              "        253, 253, 253, 253, 251,  93,  82,  82,  56,  39,   0,   0,   0,\n",
              "          0,   0],\n",
              "       [  0,   0,   0,   0,   0,   0,   0,  18, 219, 253, 253, 253, 253,\n",
              "        253, 198, 182, 247, 241,   0,   0,   0,   0,   0,   0,   0,   0,\n",
              "          0,   0],\n",
              "       [  0,   0,   0,   0,   0,   0,   0,   0,  80, 156, 107, 253, 253,\n",
              "        205,  11,   0,  43, 154,   0,   0,   0,   0,   0,   0,   0,   0,\n",
              "          0,   0],\n",
              "       [  0,   0,   0,   0,   0,   0,   0,   0,   0,  14,   1, 154, 253,\n",
              "         90,   0,   0,   0,   0,   0,   0,   0,   0,   0,   0,   0,   0,\n",
              "          0,   0],\n",
              "       [  0,   0,   0,   0,   0,   0,   0,   0,   0,   0,   0, 139, 253,\n",
              "        190,   2,   0,   0,   0,   0,   0,   0,   0,   0,   0,   0,   0,\n",
              "          0,   0],\n",
              "       [  0,   0,   0,   0,   0,   0,   0,   0,   0,   0,   0,  11, 190,\n",
              "        253,  70,   0,   0,   0,   0,   0,   0,   0,   0,   0,   0,   0,\n",
              "          0,   0],\n",
              "       [  0,   0,   0,   0,   0,   0,   0,   0,   0,   0,   0,   0,  35,\n",
              "        241, 225, 160, 108,   1,   0,   0,   0,   0,   0,   0,   0,   0,\n",
              "          0,   0],\n",
              "       [  0,   0,   0,   0,   0,   0,   0,   0,   0,   0,   0,   0,   0,\n",
              "         81, 240, 253, 253, 119,  25,   0,   0,   0,   0,   0,   0,   0,\n",
              "          0,   0],\n",
              "       [  0,   0,   0,   0,   0,   0,   0,   0,   0,   0,   0,   0,   0,\n",
              "          0,  45, 186, 253, 253, 150,  27,   0,   0,   0,   0,   0,   0,\n",
              "          0,   0],\n",
              "       [  0,   0,   0,   0,   0,   0,   0,   0,   0,   0,   0,   0,   0,\n",
              "          0,   0,  16,  93, 252, 253, 187,   0,   0,   0,   0,   0,   0,\n",
              "          0,   0],\n",
              "       [  0,   0,   0,   0,   0,   0,   0,   0,   0,   0,   0,   0,   0,\n",
              "          0,   0,   0,   0, 249, 253, 249,  64,   0,   0,   0,   0,   0,\n",
              "          0,   0],\n",
              "       [  0,   0,   0,   0,   0,   0,   0,   0,   0,   0,   0,   0,   0,\n",
              "          0,  46, 130, 183, 253, 253, 207,   2,   0,   0,   0,   0,   0,\n",
              "          0,   0],\n",
              "       [  0,   0,   0,   0,   0,   0,   0,   0,   0,   0,   0,   0,  39,\n",
              "        148, 229, 253, 253, 253, 250, 182,   0,   0,   0,   0,   0,   0,\n",
              "          0,   0],\n",
              "       [  0,   0,   0,   0,   0,   0,   0,   0,   0,   0,  24, 114, 221,\n",
              "        253, 253, 253, 253, 201,  78,   0,   0,   0,   0,   0,   0,   0,\n",
              "          0,   0],\n",
              "       [  0,   0,   0,   0,   0,   0,   0,   0,  23,  66, 213, 253, 253,\n",
              "        253, 253, 198,  81,   2,   0,   0,   0,   0,   0,   0,   0,   0,\n",
              "          0,   0],\n",
              "       [  0,   0,   0,   0,   0,   0,  18, 171, 219, 253, 253, 253, 253,\n",
              "        195,  80,   9,   0,   0,   0,   0,   0,   0,   0,   0,   0,   0,\n",
              "          0,   0],\n",
              "       [  0,   0,   0,   0,  55, 172, 226, 253, 253, 253, 253, 244, 133,\n",
              "         11,   0,   0,   0,   0,   0,   0,   0,   0,   0,   0,   0,   0,\n",
              "          0,   0],\n",
              "       [  0,   0,   0,   0, 136, 253, 253, 253, 212, 135, 132,  16,   0,\n",
              "          0,   0,   0,   0,   0,   0,   0,   0,   0,   0,   0,   0,   0,\n",
              "          0,   0],\n",
              "       [  0,   0,   0,   0,   0,   0,   0,   0,   0,   0,   0,   0,   0,\n",
              "          0,   0,   0,   0,   0,   0,   0,   0,   0,   0,   0,   0,   0,\n",
              "          0,   0],\n",
              "       [  0,   0,   0,   0,   0,   0,   0,   0,   0,   0,   0,   0,   0,\n",
              "          0,   0,   0,   0,   0,   0,   0,   0,   0,   0,   0,   0,   0,\n",
              "          0,   0],\n",
              "       [  0,   0,   0,   0,   0,   0,   0,   0,   0,   0,   0,   0,   0,\n",
              "          0,   0,   0,   0,   0,   0,   0,   0,   0,   0,   0,   0,   0,\n",
              "          0,   0]], dtype=uint8)"
            ],
            "text/html": [
              "<style>\n",
              "      .ndarray_repr .ndarray_raw_data {\n",
              "        display: none;\n",
              "      }\n",
              "      .ndarray_repr.show_array .ndarray_raw_data {\n",
              "        display: block;\n",
              "      }\n",
              "      .ndarray_repr.show_array .ndarray_image_preview {\n",
              "        display: none;\n",
              "      }\n",
              "      </style>\n",
              "      <div id=\"id-b06c58b1-6a80-4ed2-96c3-5d3db70a5fd3\" class=\"ndarray_repr\"><pre>ndarray (28, 28) <button style=\"padding: 0 2px;\">show data</button></pre><img src=\"data:image/png;base64,iVBORw0KGgoAAAANSUhEUgAAABwAAAAcCAAAAABXZoBIAAABAElEQVR4nGNgGMyAWUhIqK5jvdSy/9/rGRgYGFhgEnJsVjYCwQwMDAxPJgV+vniQgYGBgREqZ7iXH8r6l/SV4dn7m8gmCt3++/fv37/Htn3/iMW+gDnZf/+e5WbQnoXNNXyMs/5GoQoxwVmf/n9kSGFiwAW49/11wynJoPzx4YIcRlyygR/+/i2XxCWru+vv32nSuGQFYv/83Y3b4p9/fzpAmSyoMnohpiwM1w5h06Q+5enfv39/bcMiJVF09+/fv39P+mFKiTtd/fv3799jgZiBJLT69t+/f/8eDuDEkDJf8+jv379/v7Ryo4qzMDAwMAQGMjBc3/y35wM2V1IfAABFF16Aa0wAOwAAAABJRU5ErkJggg==\" class=\"ndarray_image_preview\" /><pre class=\"ndarray_raw_data\">array([[  0,   0,   0,   0,   0,   0,   0,   0,   0,   0,   0,   0,   0,\n",
              "          0,   0,   0,   0,   0,   0,   0,   0,   0,   0,   0,   0,   0,\n",
              "          0,   0],\n",
              "       [  0,   0,   0,   0,   0,   0,   0,   0,   0,   0,   0,   0,   0,\n",
              "          0,   0,   0,   0,   0,   0,   0,   0,   0,   0,   0,   0,   0,\n",
              "          0,   0],\n",
              "       [  0,   0,   0,   0,   0,   0,   0,   0,   0,   0,   0,   0,   0,\n",
              "          0,   0,   0,   0,   0,   0,   0,   0,   0,   0,   0,   0,   0,\n",
              "          0,   0],\n",
              "       [  0,   0,   0,   0,   0,   0,   0,   0,   0,   0,   0,   0,   0,\n",
              "          0,   0,   0,   0,   0,   0,   0,   0,   0,   0,   0,   0,   0,\n",
              "          0,   0],\n",
              "       [  0,   0,   0,   0,   0,   0,   0,   0,   0,   0,   0,   0,   0,\n",
              "          0,   0,   0,   0,   0,   0,   0,   0,   0,   0,   0,   0,   0,\n",
              "          0,   0],\n",
              "       [  0,   0,   0,   0,   0,   0,   0,   0,   0,   0,   0,   0,   3,\n",
              "         18,  18,  18, 126, 136, 175,  26, 166, 255, 247, 127,   0,   0,\n",
              "          0,   0],\n",
              "       [  0,   0,   0,   0,   0,   0,   0,   0,  30,  36,  94, 154, 170,\n",
              "        253, 253, 253, 253, 253, 225, 172, 253, 242, 195,  64,   0,   0,\n",
              "          0,   0],\n",
              "       [  0,   0,   0,   0,   0,   0,   0,  49, 238, 253, 253, 253, 253,\n",
              "        253, 253, 253, 253, 251,  93,  82,  82,  56,  39,   0,   0,   0,\n",
              "          0,   0],\n",
              "       [  0,   0,   0,   0,   0,   0,   0,  18, 219, 253, 253, 253, 253,\n",
              "        253, 198, 182, 247, 241,   0,   0,   0,   0,   0,   0,   0,   0,\n",
              "          0,   0],\n",
              "       [  0,   0,   0,   0,   0,   0,   0,   0,  80, 156, 107, 253, 253,\n",
              "        205,  11,   0,  43, 154,   0,   0,   0,   0,   0,   0,   0,   0,\n",
              "          0,   0],\n",
              "       [  0,   0,   0,   0,   0,   0,   0,   0,   0,  14,   1, 154, 253,\n",
              "         90,   0,   0,   0,   0,   0,   0,   0,   0,   0,   0,   0,   0,\n",
              "          0,   0],\n",
              "       [  0,   0,   0,   0,   0,   0,   0,   0,   0,   0,   0, 139, 253,\n",
              "        190,   2,   0,   0,   0,   0,   0,   0,   0,   0,   0,   0,   0,\n",
              "          0,   0],\n",
              "       [  0,   0,   0,   0,   0,   0,   0,   0,   0,   0,   0,  11, 190,\n",
              "        253,  70,   0,   0,   0,   0,   0,   0,   0,   0,   0,   0,   0,\n",
              "          0,   0],\n",
              "       [  0,   0,   0,   0,   0,   0,   0,   0,   0,   0,   0,   0,  35,\n",
              "        241, 225, 160, 108,   1,   0,   0,   0,   0,   0,   0,   0,   0,\n",
              "          0,   0],\n",
              "       [  0,   0,   0,   0,   0,   0,   0,   0,   0,   0,   0,   0,   0,\n",
              "         81, 240, 253, 253, 119,  25,   0,   0,   0,   0,   0,   0,   0,\n",
              "          0,   0],\n",
              "       [  0,   0,   0,   0,   0,   0,   0,   0,   0,   0,   0,   0,   0,\n",
              "          0,  45, 186, 253, 253, 150,  27,   0,   0,   0,   0,   0,   0,\n",
              "          0,   0],\n",
              "       [  0,   0,   0,   0,   0,   0,   0,   0,   0,   0,   0,   0,   0,\n",
              "          0,   0,  16,  93, 252, 253, 187,   0,   0,   0,   0,   0,   0,\n",
              "          0,   0],\n",
              "       [  0,   0,   0,   0,   0,   0,   0,   0,   0,   0,   0,   0,   0,\n",
              "          0,   0,   0,   0, 249, 253, 249,  64,   0,   0,   0,   0,   0,\n",
              "          0,   0],\n",
              "       [  0,   0,   0,   0,   0,   0,   0,   0,   0,   0,   0,   0,   0,\n",
              "          0,  46, 130, 183, 253, 253, 207,   2,   0,   0,   0,   0,   0,\n",
              "          0,   0],\n",
              "       [  0,   0,   0,   0,   0,   0,   0,   0,   0,   0,   0,   0,  39,\n",
              "        148, 229, 253, 253, 253, 250, 182,   0,   0,   0,   0,   0,   0,\n",
              "          0,   0],\n",
              "       [  0,   0,   0,   0,   0,   0,   0,   0,   0,   0,  24, 114, 221,\n",
              "        253, 253, 253, 253, 201,  78,   0,   0,   0,   0,   0,   0,   0,\n",
              "          0,   0],\n",
              "       [  0,   0,   0,   0,   0,   0,   0,   0,  23,  66, 213, 253, 253,\n",
              "        253, 253, 198,  81,   2,   0,   0,   0,   0,   0,   0,   0,   0,\n",
              "          0,   0],\n",
              "       [  0,   0,   0,   0,   0,   0,  18, 171, 219, 253, 253, 253, 253,\n",
              "        195,  80,   9,   0,   0,   0,   0,   0,   0,   0,   0,   0,   0,\n",
              "          0,   0],\n",
              "       [  0,   0,   0,   0,  55, 172, 226, 253, 253, 253, 253, 244, 133,\n",
              "         11,   0,   0,   0,   0,   0,   0,   0,   0,   0,   0,   0,   0,\n",
              "          0,   0],\n",
              "       [  0,   0,   0,   0, 136, 253, 253, 253, 212, 135, 132,  16,   0,\n",
              "          0,   0,   0,   0,   0,   0,   0,   0,   0,   0,   0,   0,   0,\n",
              "          0,   0],\n",
              "       [  0,   0,   0,   0,   0,   0,   0,   0,   0,   0,   0,   0,   0,\n",
              "          0,   0,   0,   0,   0,   0,   0,   0,   0,   0,   0,   0,   0,\n",
              "          0,   0],\n",
              "       [  0,   0,   0,   0,   0,   0,   0,   0,   0,   0,   0,   0,   0,\n",
              "          0,   0,   0,   0,   0,   0,   0,   0,   0,   0,   0,   0,   0,\n",
              "          0,   0],\n",
              "       [  0,   0,   0,   0,   0,   0,   0,   0,   0,   0,   0,   0,   0,\n",
              "          0,   0,   0,   0,   0,   0,   0,   0,   0,   0,   0,   0,   0,\n",
              "          0,   0]], dtype=uint8)</pre></div><script>\n",
              "      (() => {\n",
              "      const titles = ['show data', 'hide data'];\n",
              "      let index = 0\n",
              "      document.querySelector('#id-b06c58b1-6a80-4ed2-96c3-5d3db70a5fd3 button').onclick = (e) => {\n",
              "        document.querySelector('#id-b06c58b1-6a80-4ed2-96c3-5d3db70a5fd3').classList.toggle('show_array');\n",
              "        index = (++index) % 2;\n",
              "        document.querySelector('#id-b06c58b1-6a80-4ed2-96c3-5d3db70a5fd3 button').textContent = titles[index];\n",
              "        e.preventDefault();\n",
              "        e.stopPropagation();\n",
              "      }\n",
              "      })();\n",
              "    </script>"
            ]
          },
          "metadata": {},
          "execution_count": 11
        }
      ],
      "source": [
        "train_data[0]"
      ]
    },
    {
      "cell_type": "code",
      "execution_count": null,
      "metadata": {
        "colab": {
          "base_uri": "https://localhost:8080/"
        },
        "id": "Qu7uEK5rr33S",
        "outputId": "6f424745-edeb-4676-80b7-8b84dd575b8c"
      },
      "outputs": [
        {
          "output_type": "execute_result",
          "data": {
            "text/plain": [
              "(0, 255)"
            ]
          },
          "metadata": {},
          "execution_count": 12
        }
      ],
      "source": [
        "train_data.min(),train_data.max()"
      ]
    },
    {
      "cell_type": "markdown",
      "metadata": {
        "id": "WBsYXfbRCeeQ"
      },
      "source": [
        "Scaling the data"
      ]
    },
    {
      "cell_type": "code",
      "execution_count": 105,
      "metadata": {
        "colab": {
          "base_uri": "https://localhost:8080/"
        },
        "id": "KDwFfHbQrYJo",
        "outputId": "0308ce6a-3137-4701-8775-bea8e2d4acef"
      },
      "outputs": [
        {
          "output_type": "execute_result",
          "data": {
            "text/plain": [
              "array([[0.        , 0.        , 0.        , 0.        , 0.        ,\n",
              "        0.        , 0.        , 0.        , 0.        , 0.        ,\n",
              "        0.        , 0.        , 0.        , 0.        , 0.        ,\n",
              "        0.        , 0.        , 0.        , 0.        , 0.        ,\n",
              "        0.        , 0.        , 0.        , 0.        , 0.        ,\n",
              "        0.        , 0.        , 0.        ],\n",
              "       [0.        , 0.        , 0.        , 0.        , 0.        ,\n",
              "        0.        , 0.        , 0.        , 0.        , 0.        ,\n",
              "        0.        , 0.        , 0.        , 0.        , 0.        ,\n",
              "        0.        , 0.        , 0.        , 0.        , 0.        ,\n",
              "        0.        , 0.        , 0.        , 0.        , 0.        ,\n",
              "        0.        , 0.        , 0.        ],\n",
              "       [0.        , 0.        , 0.        , 0.        , 0.        ,\n",
              "        0.        , 0.        , 0.        , 0.        , 0.        ,\n",
              "        0.        , 0.        , 0.        , 0.        , 0.        ,\n",
              "        0.        , 0.        , 0.        , 0.        , 0.        ,\n",
              "        0.        , 0.        , 0.        , 0.        , 0.        ,\n",
              "        0.        , 0.        , 0.        ],\n",
              "       [0.        , 0.        , 0.        , 0.        , 0.        ,\n",
              "        0.        , 0.        , 0.        , 0.        , 0.        ,\n",
              "        0.        , 0.        , 0.        , 0.        , 0.        ,\n",
              "        0.        , 0.        , 0.        , 0.        , 0.        ,\n",
              "        0.        , 0.        , 0.        , 0.        , 0.        ,\n",
              "        0.        , 0.        , 0.        ],\n",
              "       [0.        , 0.        , 0.        , 0.        , 0.        ,\n",
              "        0.        , 0.        , 0.        , 0.        , 0.        ,\n",
              "        0.        , 0.        , 0.        , 0.        , 0.        ,\n",
              "        0.        , 0.        , 0.        , 0.        , 0.        ,\n",
              "        0.        , 0.        , 0.        , 0.        , 0.        ,\n",
              "        0.        , 0.        , 0.        ],\n",
              "       [0.        , 0.        , 0.        , 0.        , 0.        ,\n",
              "        0.        , 0.        , 0.        , 0.        , 0.        ,\n",
              "        0.        , 0.        , 0.01176471, 0.07058824, 0.07058824,\n",
              "        0.07058824, 0.49411765, 0.53333333, 0.68627451, 0.10196078,\n",
              "        0.65098039, 1.        , 0.96862745, 0.49803922, 0.        ,\n",
              "        0.        , 0.        , 0.        ],\n",
              "       [0.        , 0.        , 0.        , 0.        , 0.        ,\n",
              "        0.        , 0.        , 0.        , 0.11764706, 0.14117647,\n",
              "        0.36862745, 0.60392157, 0.66666667, 0.99215686, 0.99215686,\n",
              "        0.99215686, 0.99215686, 0.99215686, 0.88235294, 0.6745098 ,\n",
              "        0.99215686, 0.94901961, 0.76470588, 0.25098039, 0.        ,\n",
              "        0.        , 0.        , 0.        ],\n",
              "       [0.        , 0.        , 0.        , 0.        , 0.        ,\n",
              "        0.        , 0.        , 0.19215686, 0.93333333, 0.99215686,\n",
              "        0.99215686, 0.99215686, 0.99215686, 0.99215686, 0.99215686,\n",
              "        0.99215686, 0.99215686, 0.98431373, 0.36470588, 0.32156863,\n",
              "        0.32156863, 0.21960784, 0.15294118, 0.        , 0.        ,\n",
              "        0.        , 0.        , 0.        ],\n",
              "       [0.        , 0.        , 0.        , 0.        , 0.        ,\n",
              "        0.        , 0.        , 0.07058824, 0.85882353, 0.99215686,\n",
              "        0.99215686, 0.99215686, 0.99215686, 0.99215686, 0.77647059,\n",
              "        0.71372549, 0.96862745, 0.94509804, 0.        , 0.        ,\n",
              "        0.        , 0.        , 0.        , 0.        , 0.        ,\n",
              "        0.        , 0.        , 0.        ],\n",
              "       [0.        , 0.        , 0.        , 0.        , 0.        ,\n",
              "        0.        , 0.        , 0.        , 0.31372549, 0.61176471,\n",
              "        0.41960784, 0.99215686, 0.99215686, 0.80392157, 0.04313725,\n",
              "        0.        , 0.16862745, 0.60392157, 0.        , 0.        ,\n",
              "        0.        , 0.        , 0.        , 0.        , 0.        ,\n",
              "        0.        , 0.        , 0.        ],\n",
              "       [0.        , 0.        , 0.        , 0.        , 0.        ,\n",
              "        0.        , 0.        , 0.        , 0.        , 0.05490196,\n",
              "        0.00392157, 0.60392157, 0.99215686, 0.35294118, 0.        ,\n",
              "        0.        , 0.        , 0.        , 0.        , 0.        ,\n",
              "        0.        , 0.        , 0.        , 0.        , 0.        ,\n",
              "        0.        , 0.        , 0.        ],\n",
              "       [0.        , 0.        , 0.        , 0.        , 0.        ,\n",
              "        0.        , 0.        , 0.        , 0.        , 0.        ,\n",
              "        0.        , 0.54509804, 0.99215686, 0.74509804, 0.00784314,\n",
              "        0.        , 0.        , 0.        , 0.        , 0.        ,\n",
              "        0.        , 0.        , 0.        , 0.        , 0.        ,\n",
              "        0.        , 0.        , 0.        ],\n",
              "       [0.        , 0.        , 0.        , 0.        , 0.        ,\n",
              "        0.        , 0.        , 0.        , 0.        , 0.        ,\n",
              "        0.        , 0.04313725, 0.74509804, 0.99215686, 0.2745098 ,\n",
              "        0.        , 0.        , 0.        , 0.        , 0.        ,\n",
              "        0.        , 0.        , 0.        , 0.        , 0.        ,\n",
              "        0.        , 0.        , 0.        ],\n",
              "       [0.        , 0.        , 0.        , 0.        , 0.        ,\n",
              "        0.        , 0.        , 0.        , 0.        , 0.        ,\n",
              "        0.        , 0.        , 0.1372549 , 0.94509804, 0.88235294,\n",
              "        0.62745098, 0.42352941, 0.00392157, 0.        , 0.        ,\n",
              "        0.        , 0.        , 0.        , 0.        , 0.        ,\n",
              "        0.        , 0.        , 0.        ],\n",
              "       [0.        , 0.        , 0.        , 0.        , 0.        ,\n",
              "        0.        , 0.        , 0.        , 0.        , 0.        ,\n",
              "        0.        , 0.        , 0.        , 0.31764706, 0.94117647,\n",
              "        0.99215686, 0.99215686, 0.46666667, 0.09803922, 0.        ,\n",
              "        0.        , 0.        , 0.        , 0.        , 0.        ,\n",
              "        0.        , 0.        , 0.        ],\n",
              "       [0.        , 0.        , 0.        , 0.        , 0.        ,\n",
              "        0.        , 0.        , 0.        , 0.        , 0.        ,\n",
              "        0.        , 0.        , 0.        , 0.        , 0.17647059,\n",
              "        0.72941176, 0.99215686, 0.99215686, 0.58823529, 0.10588235,\n",
              "        0.        , 0.        , 0.        , 0.        , 0.        ,\n",
              "        0.        , 0.        , 0.        ],\n",
              "       [0.        , 0.        , 0.        , 0.        , 0.        ,\n",
              "        0.        , 0.        , 0.        , 0.        , 0.        ,\n",
              "        0.        , 0.        , 0.        , 0.        , 0.        ,\n",
              "        0.0627451 , 0.36470588, 0.98823529, 0.99215686, 0.73333333,\n",
              "        0.        , 0.        , 0.        , 0.        , 0.        ,\n",
              "        0.        , 0.        , 0.        ],\n",
              "       [0.        , 0.        , 0.        , 0.        , 0.        ,\n",
              "        0.        , 0.        , 0.        , 0.        , 0.        ,\n",
              "        0.        , 0.        , 0.        , 0.        , 0.        ,\n",
              "        0.        , 0.        , 0.97647059, 0.99215686, 0.97647059,\n",
              "        0.25098039, 0.        , 0.        , 0.        , 0.        ,\n",
              "        0.        , 0.        , 0.        ],\n",
              "       [0.        , 0.        , 0.        , 0.        , 0.        ,\n",
              "        0.        , 0.        , 0.        , 0.        , 0.        ,\n",
              "        0.        , 0.        , 0.        , 0.        , 0.18039216,\n",
              "        0.50980392, 0.71764706, 0.99215686, 0.99215686, 0.81176471,\n",
              "        0.00784314, 0.        , 0.        , 0.        , 0.        ,\n",
              "        0.        , 0.        , 0.        ],\n",
              "       [0.        , 0.        , 0.        , 0.        , 0.        ,\n",
              "        0.        , 0.        , 0.        , 0.        , 0.        ,\n",
              "        0.        , 0.        , 0.15294118, 0.58039216, 0.89803922,\n",
              "        0.99215686, 0.99215686, 0.99215686, 0.98039216, 0.71372549,\n",
              "        0.        , 0.        , 0.        , 0.        , 0.        ,\n",
              "        0.        , 0.        , 0.        ],\n",
              "       [0.        , 0.        , 0.        , 0.        , 0.        ,\n",
              "        0.        , 0.        , 0.        , 0.        , 0.        ,\n",
              "        0.09411765, 0.44705882, 0.86666667, 0.99215686, 0.99215686,\n",
              "        0.99215686, 0.99215686, 0.78823529, 0.30588235, 0.        ,\n",
              "        0.        , 0.        , 0.        , 0.        , 0.        ,\n",
              "        0.        , 0.        , 0.        ],\n",
              "       [0.        , 0.        , 0.        , 0.        , 0.        ,\n",
              "        0.        , 0.        , 0.        , 0.09019608, 0.25882353,\n",
              "        0.83529412, 0.99215686, 0.99215686, 0.99215686, 0.99215686,\n",
              "        0.77647059, 0.31764706, 0.00784314, 0.        , 0.        ,\n",
              "        0.        , 0.        , 0.        , 0.        , 0.        ,\n",
              "        0.        , 0.        , 0.        ],\n",
              "       [0.        , 0.        , 0.        , 0.        , 0.        ,\n",
              "        0.        , 0.07058824, 0.67058824, 0.85882353, 0.99215686,\n",
              "        0.99215686, 0.99215686, 0.99215686, 0.76470588, 0.31372549,\n",
              "        0.03529412, 0.        , 0.        , 0.        , 0.        ,\n",
              "        0.        , 0.        , 0.        , 0.        , 0.        ,\n",
              "        0.        , 0.        , 0.        ],\n",
              "       [0.        , 0.        , 0.        , 0.        , 0.21568627,\n",
              "        0.6745098 , 0.88627451, 0.99215686, 0.99215686, 0.99215686,\n",
              "        0.99215686, 0.95686275, 0.52156863, 0.04313725, 0.        ,\n",
              "        0.        , 0.        , 0.        , 0.        , 0.        ,\n",
              "        0.        , 0.        , 0.        , 0.        , 0.        ,\n",
              "        0.        , 0.        , 0.        ],\n",
              "       [0.        , 0.        , 0.        , 0.        , 0.53333333,\n",
              "        0.99215686, 0.99215686, 0.99215686, 0.83137255, 0.52941176,\n",
              "        0.51764706, 0.0627451 , 0.        , 0.        , 0.        ,\n",
              "        0.        , 0.        , 0.        , 0.        , 0.        ,\n",
              "        0.        , 0.        , 0.        , 0.        , 0.        ,\n",
              "        0.        , 0.        , 0.        ],\n",
              "       [0.        , 0.        , 0.        , 0.        , 0.        ,\n",
              "        0.        , 0.        , 0.        , 0.        , 0.        ,\n",
              "        0.        , 0.        , 0.        , 0.        , 0.        ,\n",
              "        0.        , 0.        , 0.        , 0.        , 0.        ,\n",
              "        0.        , 0.        , 0.        , 0.        , 0.        ,\n",
              "        0.        , 0.        , 0.        ],\n",
              "       [0.        , 0.        , 0.        , 0.        , 0.        ,\n",
              "        0.        , 0.        , 0.        , 0.        , 0.        ,\n",
              "        0.        , 0.        , 0.        , 0.        , 0.        ,\n",
              "        0.        , 0.        , 0.        , 0.        , 0.        ,\n",
              "        0.        , 0.        , 0.        , 0.        , 0.        ,\n",
              "        0.        , 0.        , 0.        ],\n",
              "       [0.        , 0.        , 0.        , 0.        , 0.        ,\n",
              "        0.        , 0.        , 0.        , 0.        , 0.        ,\n",
              "        0.        , 0.        , 0.        , 0.        , 0.        ,\n",
              "        0.        , 0.        , 0.        , 0.        , 0.        ,\n",
              "        0.        , 0.        , 0.        , 0.        , 0.        ,\n",
              "        0.        , 0.        , 0.        ]])"
            ]
          },
          "metadata": {},
          "execution_count": 105
        }
      ],
      "source": [
        "\n",
        "X_train = train_data/255.\n",
        "X_test = test_data/255.\n",
        "\n",
        "X_train[0]"
      ]
    },
    {
      "cell_type": "markdown",
      "metadata": {
        "id": "mvJhQX4mC5Wc"
      },
      "source": [
        "# Building the model"
      ]
    },
    {
      "cell_type": "markdown",
      "metadata": {
        "id": "g5fsteWiChZ6"
      },
      "source": [
        "## Fiding the ideal lr"
      ]
    },
    {
      "cell_type": "code",
      "execution_count": null,
      "metadata": {
        "colab": {
          "base_uri": "https://localhost:8080/",
          "height": 793
        },
        "id": "XF816JgisaLv",
        "outputId": "1753c02d-d8ff-4634-ec40-4ca0d07fdaa5"
      },
      "outputs": [
        {
          "output_type": "stream",
          "name": "stdout",
          "text": [
            "Epoch 1/40\n",
            "1875/1875 [==============================] - 17s 9ms/step - loss: 0.2000 - accuracy: 0.9408 - val_loss: 0.1013 - val_accuracy: 0.9689 - lr: 0.0010\n",
            "Epoch 2/40\n",
            "1875/1875 [==============================] - 12s 7ms/step - loss: 0.0823 - accuracy: 0.9749 - val_loss: 0.0991 - val_accuracy: 0.9694 - lr: 0.0011\n",
            "Epoch 3/40\n",
            "1875/1875 [==============================] - 13s 7ms/step - loss: 0.0582 - accuracy: 0.9814 - val_loss: 0.0661 - val_accuracy: 0.9798 - lr: 0.0013\n",
            "Epoch 4/40\n",
            "1875/1875 [==============================] - 13s 7ms/step - loss: 0.0466 - accuracy: 0.9849 - val_loss: 0.1180 - val_accuracy: 0.9690 - lr: 0.0014\n",
            "Epoch 5/40\n",
            "1875/1875 [==============================] - 13s 7ms/step - loss: 0.0391 - accuracy: 0.9870 - val_loss: 0.0889 - val_accuracy: 0.9729 - lr: 0.0016\n",
            "Epoch 6/40\n",
            "1875/1875 [==============================] - 15s 8ms/step - loss: 0.0355 - accuracy: 0.9883 - val_loss: 0.0881 - val_accuracy: 0.9782 - lr: 0.0018\n",
            "Epoch 7/40\n",
            "1875/1875 [==============================] - 17s 9ms/step - loss: 0.0390 - accuracy: 0.9873 - val_loss: 0.0877 - val_accuracy: 0.9774 - lr: 0.0020\n",
            "Epoch 8/40\n",
            "1875/1875 [==============================] - 13s 7ms/step - loss: 0.0407 - accuracy: 0.9877 - val_loss: 0.1486 - val_accuracy: 0.9663 - lr: 0.0022\n",
            "Epoch 9/40\n",
            "1875/1875 [==============================] - 13s 7ms/step - loss: 0.0411 - accuracy: 0.9877 - val_loss: 0.1051 - val_accuracy: 0.9780 - lr: 0.0025\n",
            "Epoch 10/40\n",
            "1875/1875 [==============================] - 13s 7ms/step - loss: 0.0466 - accuracy: 0.9870 - val_loss: 0.1158 - val_accuracy: 0.9768 - lr: 0.0028\n",
            "Epoch 11/40\n",
            "1875/1875 [==============================] - 13s 7ms/step - loss: 0.0516 - accuracy: 0.9867 - val_loss: 0.1441 - val_accuracy: 0.9727 - lr: 0.0032\n",
            "Epoch 12/40\n",
            "1097/1875 [================>.............] - ETA: 4s - loss: 0.0533 - accuracy: 0.9871"
          ]
        },
        {
          "output_type": "error",
          "ename": "KeyboardInterrupt",
          "evalue": "",
          "traceback": [
            "\u001b[0;31m---------------------------------------------------------------------------\u001b[0m",
            "\u001b[0;31mKeyboardInterrupt\u001b[0m                         Traceback (most recent call last)",
            "\u001b[0;32m<ipython-input-14-d3fa4db50bd6>\u001b[0m in \u001b[0;36m<cell line: 17>\u001b[0;34m()\u001b[0m\n\u001b[1;32m     15\u001b[0m \u001b[0;34m\u001b[0m\u001b[0m\n\u001b[1;32m     16\u001b[0m \u001b[0;31m# 3. Fit the model (passing the lr_scheduler callback)\u001b[0m\u001b[0;34m\u001b[0m\u001b[0;34m\u001b[0m\u001b[0m\n\u001b[0;32m---> 17\u001b[0;31m history_1 = model_1.fit(\n\u001b[0m\u001b[1;32m     18\u001b[0m                       \u001b[0mX_train\u001b[0m\u001b[0;34m,\u001b[0m\u001b[0;34m\u001b[0m\u001b[0;34m\u001b[0m\u001b[0m\n\u001b[1;32m     19\u001b[0m                       \u001b[0mtrain_labels\u001b[0m\u001b[0;34m,\u001b[0m\u001b[0;34m\u001b[0m\u001b[0;34m\u001b[0m\u001b[0m\n",
            "\u001b[0;32m/usr/local/lib/python3.10/dist-packages/keras/src/utils/traceback_utils.py\u001b[0m in \u001b[0;36merror_handler\u001b[0;34m(*args, **kwargs)\u001b[0m\n\u001b[1;32m     63\u001b[0m         \u001b[0mfiltered_tb\u001b[0m \u001b[0;34m=\u001b[0m \u001b[0;32mNone\u001b[0m\u001b[0;34m\u001b[0m\u001b[0;34m\u001b[0m\u001b[0m\n\u001b[1;32m     64\u001b[0m         \u001b[0;32mtry\u001b[0m\u001b[0;34m:\u001b[0m\u001b[0;34m\u001b[0m\u001b[0;34m\u001b[0m\u001b[0m\n\u001b[0;32m---> 65\u001b[0;31m             \u001b[0;32mreturn\u001b[0m \u001b[0mfn\u001b[0m\u001b[0;34m(\u001b[0m\u001b[0;34m*\u001b[0m\u001b[0margs\u001b[0m\u001b[0;34m,\u001b[0m \u001b[0;34m**\u001b[0m\u001b[0mkwargs\u001b[0m\u001b[0;34m)\u001b[0m\u001b[0;34m\u001b[0m\u001b[0;34m\u001b[0m\u001b[0m\n\u001b[0m\u001b[1;32m     66\u001b[0m         \u001b[0;32mexcept\u001b[0m \u001b[0mException\u001b[0m \u001b[0;32mas\u001b[0m \u001b[0me\u001b[0m\u001b[0;34m:\u001b[0m\u001b[0;34m\u001b[0m\u001b[0;34m\u001b[0m\u001b[0m\n\u001b[1;32m     67\u001b[0m             \u001b[0mfiltered_tb\u001b[0m \u001b[0;34m=\u001b[0m \u001b[0m_process_traceback_frames\u001b[0m\u001b[0;34m(\u001b[0m\u001b[0me\u001b[0m\u001b[0;34m.\u001b[0m\u001b[0m__traceback__\u001b[0m\u001b[0;34m)\u001b[0m\u001b[0;34m\u001b[0m\u001b[0;34m\u001b[0m\u001b[0m\n",
            "\u001b[0;32m/usr/local/lib/python3.10/dist-packages/keras/src/engine/training.py\u001b[0m in \u001b[0;36mfit\u001b[0;34m(self, x, y, batch_size, epochs, verbose, callbacks, validation_split, validation_data, shuffle, class_weight, sample_weight, initial_epoch, steps_per_epoch, validation_steps, validation_batch_size, validation_freq, max_queue_size, workers, use_multiprocessing)\u001b[0m\n\u001b[1;32m   1805\u001b[0m                         ):\n\u001b[1;32m   1806\u001b[0m                             \u001b[0mcallbacks\u001b[0m\u001b[0;34m.\u001b[0m\u001b[0mon_train_batch_begin\u001b[0m\u001b[0;34m(\u001b[0m\u001b[0mstep\u001b[0m\u001b[0;34m)\u001b[0m\u001b[0;34m\u001b[0m\u001b[0;34m\u001b[0m\u001b[0m\n\u001b[0;32m-> 1807\u001b[0;31m                             \u001b[0mtmp_logs\u001b[0m \u001b[0;34m=\u001b[0m \u001b[0mself\u001b[0m\u001b[0;34m.\u001b[0m\u001b[0mtrain_function\u001b[0m\u001b[0;34m(\u001b[0m\u001b[0miterator\u001b[0m\u001b[0;34m)\u001b[0m\u001b[0;34m\u001b[0m\u001b[0;34m\u001b[0m\u001b[0m\n\u001b[0m\u001b[1;32m   1808\u001b[0m                             \u001b[0;32mif\u001b[0m \u001b[0mdata_handler\u001b[0m\u001b[0;34m.\u001b[0m\u001b[0mshould_sync\u001b[0m\u001b[0;34m:\u001b[0m\u001b[0;34m\u001b[0m\u001b[0;34m\u001b[0m\u001b[0m\n\u001b[1;32m   1809\u001b[0m                                 \u001b[0mcontext\u001b[0m\u001b[0;34m.\u001b[0m\u001b[0masync_wait\u001b[0m\u001b[0;34m(\u001b[0m\u001b[0;34m)\u001b[0m\u001b[0;34m\u001b[0m\u001b[0;34m\u001b[0m\u001b[0m\n",
            "\u001b[0;32m/usr/local/lib/python3.10/dist-packages/tensorflow/python/util/traceback_utils.py\u001b[0m in \u001b[0;36merror_handler\u001b[0;34m(*args, **kwargs)\u001b[0m\n\u001b[1;32m    148\u001b[0m     \u001b[0mfiltered_tb\u001b[0m \u001b[0;34m=\u001b[0m \u001b[0;32mNone\u001b[0m\u001b[0;34m\u001b[0m\u001b[0;34m\u001b[0m\u001b[0m\n\u001b[1;32m    149\u001b[0m     \u001b[0;32mtry\u001b[0m\u001b[0;34m:\u001b[0m\u001b[0;34m\u001b[0m\u001b[0;34m\u001b[0m\u001b[0m\n\u001b[0;32m--> 150\u001b[0;31m       \u001b[0;32mreturn\u001b[0m \u001b[0mfn\u001b[0m\u001b[0;34m(\u001b[0m\u001b[0;34m*\u001b[0m\u001b[0margs\u001b[0m\u001b[0;34m,\u001b[0m \u001b[0;34m**\u001b[0m\u001b[0mkwargs\u001b[0m\u001b[0;34m)\u001b[0m\u001b[0;34m\u001b[0m\u001b[0;34m\u001b[0m\u001b[0m\n\u001b[0m\u001b[1;32m    151\u001b[0m     \u001b[0;32mexcept\u001b[0m \u001b[0mException\u001b[0m \u001b[0;32mas\u001b[0m \u001b[0me\u001b[0m\u001b[0;34m:\u001b[0m\u001b[0;34m\u001b[0m\u001b[0;34m\u001b[0m\u001b[0m\n\u001b[1;32m    152\u001b[0m       \u001b[0mfiltered_tb\u001b[0m \u001b[0;34m=\u001b[0m \u001b[0m_process_traceback_frames\u001b[0m\u001b[0;34m(\u001b[0m\u001b[0me\u001b[0m\u001b[0;34m.\u001b[0m\u001b[0m__traceback__\u001b[0m\u001b[0;34m)\u001b[0m\u001b[0;34m\u001b[0m\u001b[0;34m\u001b[0m\u001b[0m\n",
            "\u001b[0;32m/usr/local/lib/python3.10/dist-packages/tensorflow/python/eager/polymorphic_function/polymorphic_function.py\u001b[0m in \u001b[0;36m__call__\u001b[0;34m(self, *args, **kwds)\u001b[0m\n\u001b[1;32m    830\u001b[0m \u001b[0;34m\u001b[0m\u001b[0m\n\u001b[1;32m    831\u001b[0m       \u001b[0;32mwith\u001b[0m \u001b[0mOptionalXlaContext\u001b[0m\u001b[0;34m(\u001b[0m\u001b[0mself\u001b[0m\u001b[0;34m.\u001b[0m\u001b[0m_jit_compile\u001b[0m\u001b[0;34m)\u001b[0m\u001b[0;34m:\u001b[0m\u001b[0;34m\u001b[0m\u001b[0;34m\u001b[0m\u001b[0m\n\u001b[0;32m--> 832\u001b[0;31m         \u001b[0mresult\u001b[0m \u001b[0;34m=\u001b[0m \u001b[0mself\u001b[0m\u001b[0;34m.\u001b[0m\u001b[0m_call\u001b[0m\u001b[0;34m(\u001b[0m\u001b[0;34m*\u001b[0m\u001b[0margs\u001b[0m\u001b[0;34m,\u001b[0m \u001b[0;34m**\u001b[0m\u001b[0mkwds\u001b[0m\u001b[0;34m)\u001b[0m\u001b[0;34m\u001b[0m\u001b[0;34m\u001b[0m\u001b[0m\n\u001b[0m\u001b[1;32m    833\u001b[0m \u001b[0;34m\u001b[0m\u001b[0m\n\u001b[1;32m    834\u001b[0m       \u001b[0mnew_tracing_count\u001b[0m \u001b[0;34m=\u001b[0m \u001b[0mself\u001b[0m\u001b[0;34m.\u001b[0m\u001b[0mexperimental_get_tracing_count\u001b[0m\u001b[0;34m(\u001b[0m\u001b[0;34m)\u001b[0m\u001b[0;34m\u001b[0m\u001b[0;34m\u001b[0m\u001b[0m\n",
            "\u001b[0;32m/usr/local/lib/python3.10/dist-packages/tensorflow/python/eager/polymorphic_function/polymorphic_function.py\u001b[0m in \u001b[0;36m_call\u001b[0;34m(self, *args, **kwds)\u001b[0m\n\u001b[1;32m    866\u001b[0m       \u001b[0;31m# In this case we have created variables on the first call, so we run the\u001b[0m\u001b[0;34m\u001b[0m\u001b[0;34m\u001b[0m\u001b[0m\n\u001b[1;32m    867\u001b[0m       \u001b[0;31m# defunned version which is guaranteed to never create variables.\u001b[0m\u001b[0;34m\u001b[0m\u001b[0;34m\u001b[0m\u001b[0m\n\u001b[0;32m--> 868\u001b[0;31m       return tracing_compilation.call_function(\n\u001b[0m\u001b[1;32m    869\u001b[0m           \u001b[0margs\u001b[0m\u001b[0;34m,\u001b[0m \u001b[0mkwds\u001b[0m\u001b[0;34m,\u001b[0m \u001b[0mself\u001b[0m\u001b[0;34m.\u001b[0m\u001b[0m_no_variable_creation_config\u001b[0m\u001b[0;34m\u001b[0m\u001b[0;34m\u001b[0m\u001b[0m\n\u001b[1;32m    870\u001b[0m       )\n",
            "\u001b[0;32m/usr/local/lib/python3.10/dist-packages/tensorflow/python/eager/polymorphic_function/tracing_compilation.py\u001b[0m in \u001b[0;36mcall_function\u001b[0;34m(args, kwargs, tracing_options)\u001b[0m\n\u001b[1;32m    137\u001b[0m   \u001b[0mbound_args\u001b[0m \u001b[0;34m=\u001b[0m \u001b[0mfunction\u001b[0m\u001b[0;34m.\u001b[0m\u001b[0mfunction_type\u001b[0m\u001b[0;34m.\u001b[0m\u001b[0mbind\u001b[0m\u001b[0;34m(\u001b[0m\u001b[0;34m*\u001b[0m\u001b[0margs\u001b[0m\u001b[0;34m,\u001b[0m \u001b[0;34m**\u001b[0m\u001b[0mkwargs\u001b[0m\u001b[0;34m)\u001b[0m\u001b[0;34m\u001b[0m\u001b[0;34m\u001b[0m\u001b[0m\n\u001b[1;32m    138\u001b[0m   \u001b[0mflat_inputs\u001b[0m \u001b[0;34m=\u001b[0m \u001b[0mfunction\u001b[0m\u001b[0;34m.\u001b[0m\u001b[0mfunction_type\u001b[0m\u001b[0;34m.\u001b[0m\u001b[0munpack_inputs\u001b[0m\u001b[0;34m(\u001b[0m\u001b[0mbound_args\u001b[0m\u001b[0;34m)\u001b[0m\u001b[0;34m\u001b[0m\u001b[0;34m\u001b[0m\u001b[0m\n\u001b[0;32m--> 139\u001b[0;31m   return function._call_flat(  # pylint: disable=protected-access\n\u001b[0m\u001b[1;32m    140\u001b[0m       \u001b[0mflat_inputs\u001b[0m\u001b[0;34m,\u001b[0m \u001b[0mcaptured_inputs\u001b[0m\u001b[0;34m=\u001b[0m\u001b[0mfunction\u001b[0m\u001b[0;34m.\u001b[0m\u001b[0mcaptured_inputs\u001b[0m\u001b[0;34m\u001b[0m\u001b[0;34m\u001b[0m\u001b[0m\n\u001b[1;32m    141\u001b[0m   )\n",
            "\u001b[0;32m/usr/local/lib/python3.10/dist-packages/tensorflow/python/eager/polymorphic_function/concrete_function.py\u001b[0m in \u001b[0;36m_call_flat\u001b[0;34m(self, tensor_inputs, captured_inputs)\u001b[0m\n\u001b[1;32m   1321\u001b[0m         and executing_eagerly):\n\u001b[1;32m   1322\u001b[0m       \u001b[0;31m# No tape is watching; skip to running the function.\u001b[0m\u001b[0;34m\u001b[0m\u001b[0;34m\u001b[0m\u001b[0m\n\u001b[0;32m-> 1323\u001b[0;31m       \u001b[0;32mreturn\u001b[0m \u001b[0mself\u001b[0m\u001b[0;34m.\u001b[0m\u001b[0m_inference_function\u001b[0m\u001b[0;34m.\u001b[0m\u001b[0mcall_preflattened\u001b[0m\u001b[0;34m(\u001b[0m\u001b[0margs\u001b[0m\u001b[0;34m)\u001b[0m\u001b[0;34m\u001b[0m\u001b[0;34m\u001b[0m\u001b[0m\n\u001b[0m\u001b[1;32m   1324\u001b[0m     forward_backward = self._select_forward_and_backward_functions(\n\u001b[1;32m   1325\u001b[0m         \u001b[0margs\u001b[0m\u001b[0;34m,\u001b[0m\u001b[0;34m\u001b[0m\u001b[0;34m\u001b[0m\u001b[0m\n",
            "\u001b[0;32m/usr/local/lib/python3.10/dist-packages/tensorflow/python/eager/polymorphic_function/atomic_function.py\u001b[0m in \u001b[0;36mcall_preflattened\u001b[0;34m(self, args)\u001b[0m\n\u001b[1;32m    214\u001b[0m   \u001b[0;32mdef\u001b[0m \u001b[0mcall_preflattened\u001b[0m\u001b[0;34m(\u001b[0m\u001b[0mself\u001b[0m\u001b[0;34m,\u001b[0m \u001b[0margs\u001b[0m\u001b[0;34m:\u001b[0m \u001b[0mSequence\u001b[0m\u001b[0;34m[\u001b[0m\u001b[0mcore\u001b[0m\u001b[0;34m.\u001b[0m\u001b[0mTensor\u001b[0m\u001b[0;34m]\u001b[0m\u001b[0;34m)\u001b[0m \u001b[0;34m->\u001b[0m \u001b[0mAny\u001b[0m\u001b[0;34m:\u001b[0m\u001b[0;34m\u001b[0m\u001b[0;34m\u001b[0m\u001b[0m\n\u001b[1;32m    215\u001b[0m     \u001b[0;34m\"\"\"Calls with flattened tensor inputs and returns the structured output.\"\"\"\u001b[0m\u001b[0;34m\u001b[0m\u001b[0;34m\u001b[0m\u001b[0m\n\u001b[0;32m--> 216\u001b[0;31m     \u001b[0mflat_outputs\u001b[0m \u001b[0;34m=\u001b[0m \u001b[0mself\u001b[0m\u001b[0;34m.\u001b[0m\u001b[0mcall_flat\u001b[0m\u001b[0;34m(\u001b[0m\u001b[0;34m*\u001b[0m\u001b[0margs\u001b[0m\u001b[0;34m)\u001b[0m\u001b[0;34m\u001b[0m\u001b[0;34m\u001b[0m\u001b[0m\n\u001b[0m\u001b[1;32m    217\u001b[0m     \u001b[0;32mreturn\u001b[0m \u001b[0mself\u001b[0m\u001b[0;34m.\u001b[0m\u001b[0mfunction_type\u001b[0m\u001b[0;34m.\u001b[0m\u001b[0mpack_output\u001b[0m\u001b[0;34m(\u001b[0m\u001b[0mflat_outputs\u001b[0m\u001b[0;34m)\u001b[0m\u001b[0;34m\u001b[0m\u001b[0;34m\u001b[0m\u001b[0m\n\u001b[1;32m    218\u001b[0m \u001b[0;34m\u001b[0m\u001b[0m\n",
            "\u001b[0;32m/usr/local/lib/python3.10/dist-packages/tensorflow/python/eager/polymorphic_function/atomic_function.py\u001b[0m in \u001b[0;36mcall_flat\u001b[0;34m(self, *args)\u001b[0m\n\u001b[1;32m    249\u001b[0m         \u001b[0;32mwith\u001b[0m \u001b[0mrecord\u001b[0m\u001b[0;34m.\u001b[0m\u001b[0mstop_recording\u001b[0m\u001b[0;34m(\u001b[0m\u001b[0;34m)\u001b[0m\u001b[0;34m:\u001b[0m\u001b[0;34m\u001b[0m\u001b[0;34m\u001b[0m\u001b[0m\n\u001b[1;32m    250\u001b[0m           \u001b[0;32mif\u001b[0m \u001b[0mself\u001b[0m\u001b[0;34m.\u001b[0m\u001b[0m_bound_context\u001b[0m\u001b[0;34m.\u001b[0m\u001b[0mexecuting_eagerly\u001b[0m\u001b[0;34m(\u001b[0m\u001b[0;34m)\u001b[0m\u001b[0;34m:\u001b[0m\u001b[0;34m\u001b[0m\u001b[0;34m\u001b[0m\u001b[0m\n\u001b[0;32m--> 251\u001b[0;31m             outputs = self._bound_context.call_function(\n\u001b[0m\u001b[1;32m    252\u001b[0m                 \u001b[0mself\u001b[0m\u001b[0;34m.\u001b[0m\u001b[0mname\u001b[0m\u001b[0;34m,\u001b[0m\u001b[0;34m\u001b[0m\u001b[0;34m\u001b[0m\u001b[0m\n\u001b[1;32m    253\u001b[0m                 \u001b[0mlist\u001b[0m\u001b[0;34m(\u001b[0m\u001b[0margs\u001b[0m\u001b[0;34m)\u001b[0m\u001b[0;34m,\u001b[0m\u001b[0;34m\u001b[0m\u001b[0;34m\u001b[0m\u001b[0m\n",
            "\u001b[0;32m/usr/local/lib/python3.10/dist-packages/tensorflow/python/eager/context.py\u001b[0m in \u001b[0;36mcall_function\u001b[0;34m(self, name, tensor_inputs, num_outputs)\u001b[0m\n\u001b[1;32m   1484\u001b[0m     \u001b[0mcancellation_context\u001b[0m \u001b[0;34m=\u001b[0m \u001b[0mcancellation\u001b[0m\u001b[0;34m.\u001b[0m\u001b[0mcontext\u001b[0m\u001b[0;34m(\u001b[0m\u001b[0;34m)\u001b[0m\u001b[0;34m\u001b[0m\u001b[0;34m\u001b[0m\u001b[0m\n\u001b[1;32m   1485\u001b[0m     \u001b[0;32mif\u001b[0m \u001b[0mcancellation_context\u001b[0m \u001b[0;32mis\u001b[0m \u001b[0;32mNone\u001b[0m\u001b[0;34m:\u001b[0m\u001b[0;34m\u001b[0m\u001b[0;34m\u001b[0m\u001b[0m\n\u001b[0;32m-> 1486\u001b[0;31m       outputs = execute.execute(\n\u001b[0m\u001b[1;32m   1487\u001b[0m           \u001b[0mname\u001b[0m\u001b[0;34m.\u001b[0m\u001b[0mdecode\u001b[0m\u001b[0;34m(\u001b[0m\u001b[0;34m\"utf-8\"\u001b[0m\u001b[0;34m)\u001b[0m\u001b[0;34m,\u001b[0m\u001b[0;34m\u001b[0m\u001b[0;34m\u001b[0m\u001b[0m\n\u001b[1;32m   1488\u001b[0m           \u001b[0mnum_outputs\u001b[0m\u001b[0;34m=\u001b[0m\u001b[0mnum_outputs\u001b[0m\u001b[0;34m,\u001b[0m\u001b[0;34m\u001b[0m\u001b[0;34m\u001b[0m\u001b[0m\n",
            "\u001b[0;32m/usr/local/lib/python3.10/dist-packages/tensorflow/python/eager/execute.py\u001b[0m in \u001b[0;36mquick_execute\u001b[0;34m(op_name, num_outputs, inputs, attrs, ctx, name)\u001b[0m\n\u001b[1;32m     51\u001b[0m   \u001b[0;32mtry\u001b[0m\u001b[0;34m:\u001b[0m\u001b[0;34m\u001b[0m\u001b[0;34m\u001b[0m\u001b[0m\n\u001b[1;32m     52\u001b[0m     \u001b[0mctx\u001b[0m\u001b[0;34m.\u001b[0m\u001b[0mensure_initialized\u001b[0m\u001b[0;34m(\u001b[0m\u001b[0;34m)\u001b[0m\u001b[0;34m\u001b[0m\u001b[0;34m\u001b[0m\u001b[0m\n\u001b[0;32m---> 53\u001b[0;31m     tensors = pywrap_tfe.TFE_Py_Execute(ctx._handle, device_name, op_name,\n\u001b[0m\u001b[1;32m     54\u001b[0m                                         inputs, attrs, num_outputs)\n\u001b[1;32m     55\u001b[0m   \u001b[0;32mexcept\u001b[0m \u001b[0mcore\u001b[0m\u001b[0;34m.\u001b[0m\u001b[0m_NotOkStatusException\u001b[0m \u001b[0;32mas\u001b[0m \u001b[0me\u001b[0m\u001b[0;34m:\u001b[0m\u001b[0;34m\u001b[0m\u001b[0;34m\u001b[0m\u001b[0m\n",
            "\u001b[0;31mKeyboardInterrupt\u001b[0m: "
          ]
        }
      ],
      "source": [
        "# Creating the model and finding the ideal lr\n",
        "\n",
        "model_1 = tf.keras.Sequential([\n",
        "    tf.keras.layers.Flatten(input_shape=(28,28)),\n",
        "    tf.keras.layers.Dense(512, activation=\"relu\"),\n",
        "    tf.keras.layers.Dense(10, activation=\"softmax\")\n",
        "])\n",
        "\n",
        "model_1.compile(loss=tf.keras.losses.SparseCategoricalCrossentropy(),\n",
        "                optimizer=tf.keras.optimizers.Adam(),\n",
        "                metrics=[\"accuracy\"])\n",
        "\n",
        "#  Create a learning rate callback\n",
        "lr_schedulres = tf.keras.callbacks.LearningRateScheduler(lambda epoch: 1e-3 * 10**(epoch/20))\n",
        "\n",
        "# 3. Fit the model (passing the lr_scheduler callback)\n",
        "history_1 = model_1.fit(\n",
        "                      X_train,\n",
        "                      train_labels,\n",
        "                      epochs=40,\n",
        "                      validation_data=(X_test,test_labels),\n",
        "                      callbacks=[lr_schedulres])"
      ]
    },
    {
      "cell_type": "code",
      "execution_count": null,
      "metadata": {
        "id": "URxVH6CCvjyd"
      },
      "outputs": [],
      "source": [
        "#Plot the learning rate decay curve\n",
        "number_of_epochs=40\n",
        "\n",
        "lrs = 1e-4 * (10 ** (tf.range(number_of_epochs)/20))\n",
        "plt.figure(figsize=(10,7))\n",
        "plt.semilogx(lrs,history_1.history[\"loss\"])\n",
        "plt.scatter(0.0002, 0.02, label=\"punto\", color=\"red\")\n",
        "plt.xlabel(\"Learning rate\")\n",
        "plt.ylabel(\"loss\")\n",
        "plt.grid(True)\n",
        "plt.title(\"Finding the ideal learning rate\")\n",
        "plt.legend()\n",
        "plt.show()"
      ]
    },
    {
      "cell_type": "markdown",
      "metadata": {
        "id": "tZo7PepECquT"
      },
      "source": [
        "## Creating the model with the ideal lr"
      ]
    },
    {
      "cell_type": "code",
      "execution_count": 106,
      "metadata": {
        "colab": {
          "base_uri": "https://localhost:8080/"
        },
        "id": "WKaOjHnwvvUI",
        "outputId": "5c8974a0-8382-403b-a749-5bbcf8147ed3"
      },
      "outputs": [
        {
          "output_type": "stream",
          "name": "stdout",
          "text": [
            "Epoch 1/5\n",
            "1875/1875 [==============================] - 21s 11ms/step - loss: 0.2002 - accuracy: 0.9411\n",
            "Epoch 2/5\n",
            "1875/1875 [==============================] - 18s 10ms/step - loss: 0.0799 - accuracy: 0.9754\n",
            "Epoch 3/5\n",
            "1875/1875 [==============================] - 19s 10ms/step - loss: 0.0508 - accuracy: 0.9841\n",
            "Epoch 4/5\n",
            "1875/1875 [==============================] - 17s 9ms/step - loss: 0.0367 - accuracy: 0.9880\n",
            "Epoch 5/5\n",
            "1875/1875 [==============================] - 17s 9ms/step - loss: 0.0269 - accuracy: 0.9914\n"
          ]
        }
      ],
      "source": [
        "\n",
        "model_2 = tf.keras.Sequential([\n",
        "    tf.keras.layers.Flatten(input_shape=(28,28)),\n",
        "    tf.keras.layers.Dense(512, activation=\"relu\"),\n",
        "    tf.keras.layers.Dense(10, activation=\"softmax\")\n",
        "])\n",
        "\n",
        "model_2.compile(loss=tf.keras.losses.SparseCategoricalCrossentropy(),\n",
        "                optimizer=tf.keras.optimizers.Adam(learning_rate=0.001),\n",
        "                metrics=[\"accuracy\"])\n",
        "\n",
        "# 3. Fit the model (passing the lr_scheduler callback)\n",
        "history_2 = model_2.fit(\n",
        "                      X_train,\n",
        "                      train_labels,\n",
        "                      epochs=5)"
      ]
    },
    {
      "cell_type": "code",
      "execution_count": null,
      "metadata": {
        "colab": {
          "base_uri": "https://localhost:8080/"
        },
        "id": "faoXXRGBgddO",
        "outputId": "0cba6967-c2c9-43b5-9ae8-8196dcf24688"
      },
      "outputs": [
        {
          "output_type": "stream",
          "name": "stdout",
          "text": [
            "313/313 [==============================] - 1s 2ms/step - loss: 0.0681 - accuracy: 0.9794\n"
          ]
        },
        {
          "output_type": "execute_result",
          "data": {
            "text/plain": [
              "[0.06805073469877243, 0.9793999791145325]"
            ]
          },
          "metadata": {},
          "execution_count": 16
        }
      ],
      "source": [
        "model_2.evaluate(X_test,test_labels)"
      ]
    },
    {
      "cell_type": "markdown",
      "metadata": {
        "id": "ADXHWPqZCwJC"
      },
      "source": [
        "## Function to plot the confussion matrix"
      ]
    },
    {
      "cell_type": "code",
      "execution_count": null,
      "metadata": {
        "id": "MPM3Kygcwqbf"
      },
      "outputs": [],
      "source": [
        "import itertools\n",
        "from sklearn.metrics import confusion_matrix\n",
        "\n",
        "def make_confusion_matrix(y_true, y_pred, classes=None, figsize=(10,10), text_size=15):\n",
        "\n",
        "  # Create the confusion matrix\n",
        "  cm = confusion_matrix(y_true,y_pred)\n",
        "  cm_norm = cm.astype(\"float\") / cm.sum(axis=1)[:, np.newaxis]\n",
        "  n_classes = cm.shape[0]\n",
        "\n",
        "  fig, ax = plt.subplots(figsize=figsize)\n",
        "  # Create a matrix plot\n",
        "  cax = ax.matshow(cm,cmap=plt.cm.Blues)\n",
        "  fig.colorbar(cax)\n",
        "\n",
        "  # Set labels to be classes\n",
        "  if classes:\n",
        "    labels = classes\n",
        "  else:\n",
        "    labels = np.arange(cm.shape[0])\n",
        "\n",
        "  # Label the axes\n",
        "  ax.set(title=\"Confussion Matrix\",\n",
        "        xlabel=\"Predicted Label\",\n",
        "        ylabel=\"True Label\",\n",
        "        xticks=np.arange(n_classes),\n",
        "        yticks=np.arange(n_classes),\n",
        "        xticklabels=labels,\n",
        "        yticklabels=labels)\n",
        "\n",
        "  ax.xaxis.set_label_position(\"bottom\")\n",
        "  ax.xaxis.tick_bottom()\n",
        "\n",
        "  # Adjust label size\n",
        "  ax.xaxis.label.set_size(text_size)\n",
        "  ax.yaxis.label.set_size(text_size)\n",
        "  ax.title.set_size(text_size)\n",
        "\n",
        "  # Set threshold for different color\n",
        "  threshold = (cm.max() + cm.min()) /2.\n",
        "\n",
        "  # Plot the text on each cell\n",
        "  for i,j in itertools.product(range(cm.shape[0]), range(cm.shape[1])):\n",
        "    plt.text(j,i,f\"{cm[i,j]} ({cm_norm[i,j]*100:.1f}%)\",\n",
        "            horizontalalignment=\"center\",\n",
        "            color=\"white\" if cm[i,j] > threshold else \"black\",\n",
        "            size=text_size)"
      ]
    },
    {
      "cell_type": "code",
      "execution_count": null,
      "metadata": {
        "colab": {
          "base_uri": "https://localhost:8080/"
        },
        "id": "hMKyS99Wwvqh",
        "outputId": "1148f60e-c751-435e-f3a5-5d91b703123f"
      },
      "outputs": [
        {
          "output_type": "stream",
          "name": "stdout",
          "text": [
            "313/313 [==============================] - 1s 2ms/step\n"
          ]
        },
        {
          "output_type": "execute_result",
          "data": {
            "text/plain": [
              "array([[2.8246883e-09, 2.9024311e-10, 6.6707236e-07, 4.3870818e-06,\n",
              "        3.2904107e-13, 1.9467038e-08, 2.5075926e-11, 9.9999434e-01,\n",
              "        4.5860240e-09, 5.1236674e-07],\n",
              "       [3.0286822e-11, 3.0088840e-09, 9.9999994e-01, 2.8222160e-09,\n",
              "        1.2974949e-18, 2.6716051e-11, 1.5288813e-10, 2.3786988e-16,\n",
              "        3.2637899e-09, 6.9515507e-15],\n",
              "       [7.8926021e-08, 9.9928164e-01, 1.2532233e-04, 1.5439971e-07,\n",
              "        9.2250457e-06, 5.4010781e-07, 3.0576831e-07, 3.8511411e-04,\n",
              "        1.9673296e-04, 9.3710833e-07],\n",
              "       [9.9793273e-01, 8.4137950e-09, 1.7877909e-03, 1.2613942e-08,\n",
              "        6.1348419e-07, 9.5268845e-08, 6.2470295e-05, 4.5244915e-06,\n",
              "        3.4203185e-09, 2.1169112e-04],\n",
              "       [9.6297903e-09, 5.7962801e-10, 7.0172837e-07, 7.3080630e-10,\n",
              "        9.9895549e-01, 6.3402428e-10, 4.3202036e-08, 6.0090706e-06,\n",
              "        3.7601506e-08, 1.0377101e-03]], dtype=float32)"
            ]
          },
          "metadata": {},
          "execution_count": 18
        }
      ],
      "source": [
        "# Make some predictions with our model\n",
        "y_probs = model_2.predict(X_test) # Probs -> predictions probabilities\n",
        "\n",
        "# Viwe the first 5 predictions\n",
        "y_probs[:5]"
      ]
    },
    {
      "cell_type": "code",
      "execution_count": null,
      "metadata": {
        "colab": {
          "base_uri": "https://localhost:8080/"
        },
        "id": "iAWf34TwxBu-",
        "outputId": "df8b7551-e653-4656-d108-9b5f477519ba"
      },
      "outputs": [
        {
          "output_type": "execute_result",
          "data": {
            "text/plain": [
              "(array([2.8246883e-09, 2.9024311e-10, 6.6707236e-07, 4.3870818e-06,\n",
              "        3.2904107e-13, 1.9467038e-08, 2.5075926e-11, 9.9999434e-01,\n",
              "        4.5860240e-09, 5.1236674e-07], dtype=float32),\n",
              " <tf.Tensor: shape=(), dtype=int64, numpy=7>)"
            ]
          },
          "metadata": {},
          "execution_count": 19
        }
      ],
      "source": [
        "y_probs[0],tf.argmax(y_probs[0])"
      ]
    },
    {
      "cell_type": "code",
      "execution_count": null,
      "metadata": {
        "colab": {
          "base_uri": "https://localhost:8080/"
        },
        "id": "mWPanUdUxTpq",
        "outputId": "da3f3a72-6fe5-43e4-f206-20d3c0b10076"
      },
      "outputs": [
        {
          "output_type": "execute_result",
          "data": {
            "text/plain": [
              "7"
            ]
          },
          "metadata": {},
          "execution_count": 20
        }
      ],
      "source": [
        "test_labels[0]"
      ]
    },
    {
      "cell_type": "code",
      "execution_count": null,
      "metadata": {
        "colab": {
          "base_uri": "https://localhost:8080/"
        },
        "id": "6iFlFF9OxZsM",
        "outputId": "4944306c-9eae-49d9-f819-54aa8d99950e"
      },
      "outputs": [
        {
          "output_type": "execute_result",
          "data": {
            "text/plain": [
              "array([ True,  True,  True,  True,  True,  True,  True,  True,  True,\n",
              "        True])"
            ]
          },
          "metadata": {},
          "execution_count": 21
        }
      ],
      "source": [
        "#Convert all of the predictions probabilities into integers\n",
        "y_preds = y_probs.argmax(axis=1)\n",
        "\n",
        "# View the first 10 prediction labels\n",
        "y_preds[:10] == test_labels[:10]"
      ]
    },
    {
      "cell_type": "code",
      "execution_count": null,
      "metadata": {
        "id": "8aYmhQXHxh56"
      },
      "outputs": [],
      "source": [
        "class_names = [0,1,2,3,4,5,6,7,8,9,]"
      ]
    },
    {
      "cell_type": "code",
      "execution_count": null,
      "metadata": {
        "colab": {
          "base_uri": "https://localhost:8080/",
          "height": 815
        },
        "id": "7evDW7YKxePY",
        "outputId": "d7768dfa-6508-428b-fd56-728d78ce0424"
      },
      "outputs": [
        {
          "output_type": "display_data",
          "data": {
            "text/plain": [
              "<Figure size 1000x1000 with 2 Axes>"
            ],
            "image/png": "[encoded data removed]"
          },
          "metadata": {}
        }
      ],
      "source": [
        "make_confusion_matrix(y_true=test_labels,y_pred=y_preds,classes=class_names,figsize=(10,10),text_size=6)"
      ]
    },
    {
      "cell_type": "code",
      "execution_count": null,
      "metadata": {
        "id": "_XxLZkJgx9lc"
      },
      "outputs": [],
      "source": [
        "import random\n",
        "\n",
        "def plot_random_image(model,images,true_labels,classes):\n",
        "  \"\"\"\n",
        "  Picks a random image, plots it and labels it with a prediction and truth label.\n",
        "  \"\"\"\n",
        "  # set up random integer\n",
        "  i = random.randint(0,len(images))\n",
        "\n",
        "  # Create predictions and targets\n",
        "  target_image = images[i]\n",
        "  pred_probs = model.predict(target_image.reshape(1,28,28))\n",
        "  pred_label = classes[pred_probs.argmax()]\n",
        "  true_label = classes[true_labels[i]]\n",
        "\n",
        "  #Plot the imgae\n",
        "  plt.imshow(target_image, cmap=plt.cm.binary)\n",
        "\n",
        "  # Change the color of the titles depending on if the prediction is right or wrong\n",
        "  if pred_label == true_label:\n",
        "    color = \"green\"\n",
        "  else:\n",
        "    color = \"red\"\n",
        "\n",
        "  #Add xlabel information(prediction/true label)\n",
        "  plt.xlabel(\"Pred: {} {:2.0f}% (True: {})\".format(pred_label,\n",
        "                                                    100*tf.reduce_max(pred_probs),\n",
        "                                                    true_label),\n",
        "                                                    color=color)\n"
      ]
    },
    {
      "cell_type": "markdown",
      "metadata": {
        "id": "P8WEg99aC9ZV"
      },
      "source": [
        "# Making predictions and testing the model"
      ]
    },
    {
      "cell_type": "code",
      "execution_count": null,
      "metadata": {
        "colab": {
          "base_uri": "https://localhost:8080/",
          "height": 466
        },
        "id": "GNe_b0Rex_i0",
        "outputId": "8924b5e5-3f2e-4235-a692-ecc92a19bfd7"
      },
      "outputs": [
        {
          "output_type": "stream",
          "name": "stdout",
          "text": [
            "1/1 [==============================] - 0s 31ms/step\n"
          ]
        },
        {
          "output_type": "display_data",
          "data": {
            "text/plain": [
              "<Figure size 640x480 with 1 Axes>"
            ],
            "image/png": "[encoded data removed]"
          },
          "metadata": {}
        }
      ],
      "source": [
        "# Check out a random image as well as its prediction\n",
        "plot_random_image(model=model_2,\n",
        "                  images=X_test,\n",
        "                  true_labels=test_labels,\n",
        "                  classes=class_names\n",
        "                  )"
      ]
    },
    {
      "cell_type": "markdown",
      "metadata": {
        "id": "POjz_8LDDyyo"
      },
      "source": [
        "# Using custom images to test the model"
      ]
    },
    {
      "cell_type": "markdown",
      "metadata": {
        "id": "QreQSMwmLpGc"
      },
      "source": [
        "## Preparing the custom data"
      ]
    },
    {
      "cell_type": "code",
      "execution_count": null,
      "metadata": {
        "colab": {
          "base_uri": "https://localhost:8080/"
        },
        "id": "iQxZo37g8SLA",
        "outputId": "4f9a20be-2c91-4441-db80-96e92ab04216"
      },
      "outputs": [
        {
          "output_type": "stream",
          "name": "stdout",
          "text": [
            "d0.png\td1.png\td2.png\td3.png\td4.png\td5.png\td6.png\td7.png\td8.png\td9.png\n"
          ]
        }
      ],
      "source": [
        "!ls /content/drive/MyDrive/AI/DeepLearning/DigitsClassification_CustomTest/digits"
      ]
    },
    {
      "cell_type": "code",
      "execution_count": null,
      "metadata": {
        "id": "NrswciKNEFND"
      },
      "outputs": [],
      "source": [
        "# Let's visualize our images\n",
        "import matplotlib.pyplot as plt\n",
        "import matplotlib.image as mpimg\n",
        "import random\n",
        "import pathlib\n",
        "import numpy as np\n",
        "import cv2\n",
        "\n",
        "def view_image(n):\n",
        "  loaded_images = []\n",
        "  # Setup the target directory (we'll view images from here)\n",
        "  target_folder = \"/content/drive/MyDrive/AI/DeepLearning/DigitsClassification_CustomTest/digits\"\n",
        "\n",
        "\n",
        "  img_path = f'{target_folder}/d{n}.png'\n",
        "\n",
        "  img = cv2.imread(img_path)[:,:,0]\n",
        "  img = np.invert(np.array([img]))\n",
        "  plt.figure(figsize=(6,12))\n",
        "  plt.imshow(img.reshape(28,28), cmap=plt.cm.binary)\n",
        "  plt.axis(False)\n",
        "\n",
        "  return img\n"
      ]
    },
    {
      "cell_type": "code",
      "execution_count": null,
      "metadata": {
        "colab": {
          "base_uri": "https://localhost:8080/",
          "height": 501
        },
        "id": "Lie-QrpGEGO_",
        "outputId": "e1b590c8-05b8-4dd7-99d9-25e765b80d11"
      },
      "outputs": [
        {
          "output_type": "display_data",
          "data": {
            "text/plain": [
              "<Figure size 600x1200 with 1 Axes>"
            ],
            "image/png": "[encoded data removed]"
          },
          "metadata": {}
        }
      ],
      "source": [
        "img = view_image(9)"
      ]
    },
    {
      "cell_type": "code",
      "execution_count": null,
      "metadata": {
        "colab": {
          "base_uri": "https://localhost:8080/"
        },
        "id": "2w6htQKtGAle",
        "outputId": "8fc95ad5-ebe3-424f-b661-63465744cb36"
      },
      "outputs": [
        {
          "output_type": "execute_result",
          "data": {
            "text/plain": [
              "<tf.Tensor: shape=(1, 28, 28), dtype=uint8, numpy=\n",
              "array([[[  0,   0,   0,   0,   0,   0,   0,   0,   0,   0,   0,   0,\n",
              "           0,   0,   0,   0,   0,   0,   0,   0,   0,   0,   0,   0,\n",
              "           0,   0,   0,   0],\n",
              "        [  0,   0,   0,   0,   0,   0,   0,   0,   0,   0,   0,   0,\n",
              "           0,   0,   0,   0,   0,   0,   0,   0,   0,   0,   0,   0,\n",
              "           0,   0,   0,   0],\n",
              "        [  0,   0,   0,   0,   0,   0,   0,   0,   0,   0,   0,   0,\n",
              "           0,   0,   0,   0,   0,   0,   0,   0,   0,   0,   0,   0,\n",
              "           0,   0,   0,   0],\n",
              "        [  0,   0,   0,   0,   0,   0,   0,   0,   0,   0,   0,   0,\n",
              "         207, 255, 255, 255, 207,   0,   0,   0,   0,   0,   0,   0,\n",
              "           0,   0,   0,   0],\n",
              "        [  0,   0,   0,   0,   0,   0,   0,   0,   0,   0, 207, 255,\n",
              "         239,   0,   0,   0, 239, 255, 207,   0,   0,   0,   0,   0,\n",
              "           0,   0,   0,   0],\n",
              "        [  0,   0,   0,   0,   0,   0,   0,   0,   0, 207, 239,   0,\n",
              "           0,   0,   0,   0,   0,   0, 239, 237,   0,   0,   0,   0,\n",
              "           0,   0,   0,   0],\n",
              "        [  0,   0,   0,   0,   0,   0,   0,   0, 207, 239,   0,   0,\n",
              "           0,   0,   0,   0,   0,   0,   0, 255,   0,   0,   0,   0,\n",
              "           0,   0,   0,   0],\n",
              "        [  0,   0,   0,   0,   0,   0,   0,   0, 255, 159,   0,   0,\n",
              "           0,   0,   0,   0,   0,   0,   0, 255,   0,   0,   0,   0,\n",
              "           0,   0,   0,   0],\n",
              "        [  0,   0,   0,   0,   0,   0,   0,   0, 255, 239, 207,   0,\n",
              "           0,   0,   0,   0,   0,   0, 246, 254,   0,   0,   0,   0,\n",
              "           0,   0,   0,   0],\n",
              "        [  0,   0,   0,   0,   0,   0,   0,   0,   0,   0, 255,   0,\n",
              "           0,   0,   0,   0,   0, 207, 255,   0,   0,   0,   0,   0,\n",
              "           0,   0,   0,   0],\n",
              "        [  0,   0,   0,   0,   0,   0,   0,   0,   0,   0, 239, 255,\n",
              "         255, 255, 255, 255, 255, 239, 255,   0,   0,   0,   0,   0,\n",
              "           0,   0,   0,   0],\n",
              "        [  0,   0,   0,   0,   0,   0,   0,   0,   0,   0,   0,   0,\n",
              "           0,   0,   0,   0,   0,   0, 255,   0,   0,   0,   0,   0,\n",
              "           0,   0,   0,   0],\n",
              "        [  0,   0,   0,   0,   0,   0,   0,   0,   0,   0,   0,   0,\n",
              "           0,   0,   0,   0,   0, 207, 239,   0,   0,   0,   0,   0,\n",
              "           0,   0,   0,   0],\n",
              "        [  0,   0,   0,   0,   0,   0,   0,   0,   0,   0,   0,   0,\n",
              "           0,   0,   0,   0,   0, 255,   0,   0,   0,   0,   0,   0,\n",
              "           0,   0,   0,   0],\n",
              "        [  0,   0,   0,   0,   0,   0,   0,   0,   0,   0,   0,   0,\n",
              "           0,   0,   0,   0,   0, 255,   0,   0,   0,   0,   0,   0,\n",
              "           0,   0,   0,   0],\n",
              "        [  0,   0,   0,   0,   0,   0,   0,   0,   0,   0,   0,   0,\n",
              "           0,   0,   0,   0,   0, 255,   0,   0,   0,   0,   0,   0,\n",
              "           0,   0,   0,   0],\n",
              "        [  0,   0,   0,   0,   0,   0,   0,   0,   0,   0,   0,   0,\n",
              "           0,   0,   0,   0,  16, 239,   0,   0,   0,   0,   0,   0,\n",
              "           0,   0,   0,   0],\n",
              "        [  0,   0,   0,   0,   0,   0,   0,   0,   0,   0,   0,   0,\n",
              "           0,   0,   0,   0, 207,  48,   0,   0,   0,   0,   0,   0,\n",
              "           0,   0,   0,   0],\n",
              "        [  0,   0,   0,   0,   0,   0,   0,   0,   0,   0,   0,   0,\n",
              "           0,   0,   0,   0, 255,   0,   0,   0,   0,   0,   0,   0,\n",
              "           0,   0,   0,   0],\n",
              "        [  0,   0,   0,   0,   0,   0,   0,   0,   0,   0,   0,   0,\n",
              "           0,   0,   0,   0, 255,   0,   0,   0,   0,   0,   0,   0,\n",
              "           0,   0,   0,   0],\n",
              "        [  0,   0,   0,   0,   0,   0,   0,   0,   0,   0,   0,   0,\n",
              "           0,   0,   0,   0, 255,   0,   0,   0,   0,   0,   0,   0,\n",
              "           0,   0,   0,   0],\n",
              "        [  0,   0,   0,   0,   0,   0,   0,   0,   0,   0,   0,   0,\n",
              "           0,   0,   0,   0, 255,   0,   0,   0,   0,   0,   0,   0,\n",
              "           0,   0,   0,   0],\n",
              "        [  0,   0,   0,   0,   0,   0,   0,   0,   0,   0,   0,   0,\n",
              "           0,   0,   0,   0, 255,   0,   0,   0,   0,   0,   0,   0,\n",
              "           0,   0,   0,   0],\n",
              "        [  0,   0,   0,   0,   0,   0,   0,   0,   0,   0,   0,   0,\n",
              "           0,   0,   0,   0, 255,   0,   0,   0,   0,   0,   0,   0,\n",
              "           0,   0,   0,   0],\n",
              "        [  0,   0,   0,   0,   0,   0,   0,   0,   0,   0,   0,   0,\n",
              "           0,   0,   0,   0, 255,   0,   0,   0,   0,   0,   0,   0,\n",
              "           0,   0,   0,   0],\n",
              "        [  0,   0,   0,   0,   0,   0,   0,   0,   0,   0,   0,   0,\n",
              "           0,   0,   0,   0, 223,   0,   0,   0,   0,   0,   0,   0,\n",
              "           0,   0,   0,   0],\n",
              "        [  0,   0,   0,   0,   0,   0,   0,   0,   0,   0,   0,   0,\n",
              "           0,   0,   0,   0,   0,   0,   0,   0,   0,   0,   0,   0,\n",
              "           0,   0,   0,   0],\n",
              "        [  0,   0,   0,   0,   0,   0,   0,   0,   0,   0,   0,   0,\n",
              "           0,   0,   0,   0,   0,   0,   0,   0,   0,   0,   0,   0,\n",
              "           0,   0,   0,   0]]], dtype=uint8)>"
            ]
          },
          "metadata": {},
          "execution_count": 29
        }
      ],
      "source": [
        "tf.constant(img)"
      ]
    },
    {
      "cell_type": "code",
      "execution_count": null,
      "metadata": {
        "colab": {
          "base_uri": "https://localhost:8080/"
        },
        "id": "L_ktt2gAIVjv",
        "outputId": "6e01e141-7221-4b11-a745-3e11aa209656"
      },
      "outputs": [
        {
          "output_type": "execute_result",
          "data": {
            "text/plain": [
              "(0, 255)"
            ]
          },
          "metadata": {},
          "execution_count": 30
        }
      ],
      "source": [
        "img.min(),img.max()"
      ]
    },
    {
      "cell_type": "code",
      "execution_count": null,
      "metadata": {
        "colab": {
          "base_uri": "https://localhost:8080/"
        },
        "id": "EbGh89yZIiTp",
        "outputId": "2434559e-a656-498c-8944-451d77126a84"
      },
      "outputs": [
        {
          "output_type": "execute_result",
          "data": {
            "text/plain": [
              "array([[[0.        , 0.        , 0.        , 0.        , 0.        ,\n",
              "         0.        , 0.        , 0.        , 0.        , 0.        ,\n",
              "         0.        , 0.        , 0.        , 0.        , 0.        ,\n",
              "         0.        , 0.        , 0.        , 0.        , 0.        ,\n",
              "         0.        , 0.        , 0.        , 0.        , 0.        ,\n",
              "         0.        , 0.        , 0.        ],\n",
              "        [0.        , 0.        , 0.        , 0.        , 0.        ,\n",
              "         0.        , 0.        , 0.        , 0.        , 0.        ,\n",
              "         0.        , 0.        , 0.        , 0.        , 0.        ,\n",
              "         0.        , 0.        , 0.        , 0.        , 0.        ,\n",
              "         0.        , 0.        , 0.        , 0.        , 0.        ,\n",
              "         0.        , 0.        , 0.        ],\n",
              "        [0.        , 0.        , 0.        , 0.        , 0.        ,\n",
              "         0.        , 0.        , 0.        , 0.        , 0.        ,\n",
              "         0.        , 0.        , 0.        , 0.        , 0.        ,\n",
              "         0.        , 0.        , 0.        , 0.        , 0.        ,\n",
              "         0.        , 0.        , 0.        , 0.        , 0.        ,\n",
              "         0.        , 0.        , 0.        ],\n",
              "        [0.        , 0.        , 0.        , 0.        , 0.        ,\n",
              "         0.        , 0.        , 0.        , 0.        , 0.        ,\n",
              "         0.        , 0.        , 0.81176471, 1.        , 1.        ,\n",
              "         1.        , 0.81176471, 0.        , 0.        , 0.        ,\n",
              "         0.        , 0.        , 0.        , 0.        , 0.        ,\n",
              "         0.        , 0.        , 0.        ],\n",
              "        [0.        , 0.        , 0.        , 0.        , 0.        ,\n",
              "         0.        , 0.        , 0.        , 0.        , 0.        ,\n",
              "         0.81176471, 1.        , 0.9372549 , 0.        , 0.        ,\n",
              "         0.        , 0.9372549 , 1.        , 0.81176471, 0.        ,\n",
              "         0.        , 0.        , 0.        , 0.        , 0.        ,\n",
              "         0.        , 0.        , 0.        ],\n",
              "        [0.        , 0.        , 0.        , 0.        , 0.        ,\n",
              "         0.        , 0.        , 0.        , 0.        , 0.81176471,\n",
              "         0.9372549 , 0.        , 0.        , 0.        , 0.        ,\n",
              "         0.        , 0.        , 0.        , 0.9372549 , 0.92941176,\n",
              "         0.        , 0.        , 0.        , 0.        , 0.        ,\n",
              "         0.        , 0.        , 0.        ],\n",
              "        [0.        , 0.        , 0.        , 0.        , 0.        ,\n",
              "         0.        , 0.        , 0.        , 0.81176471, 0.9372549 ,\n",
              "         0.        , 0.        , 0.        , 0.        , 0.        ,\n",
              "         0.        , 0.        , 0.        , 0.        , 1.        ,\n",
              "         0.        , 0.        , 0.        , 0.        , 0.        ,\n",
              "         0.        , 0.        , 0.        ],\n",
              "        [0.        , 0.        , 0.        , 0.        , 0.        ,\n",
              "         0.        , 0.        , 0.        , 1.        , 0.62352941,\n",
              "         0.        , 0.        , 0.        , 0.        , 0.        ,\n",
              "         0.        , 0.        , 0.        , 0.        , 1.        ,\n",
              "         0.        , 0.        , 0.        , 0.        , 0.        ,\n",
              "         0.        , 0.        , 0.        ],\n",
              "        [0.        , 0.        , 0.        , 0.        , 0.        ,\n",
              "         0.        , 0.        , 0.        , 1.        , 0.9372549 ,\n",
              "         0.81176471, 0.        , 0.        , 0.        , 0.        ,\n",
              "         0.        , 0.        , 0.        , 0.96470588, 0.99607843,\n",
              "         0.        , 0.        , 0.        , 0.        , 0.        ,\n",
              "         0.        , 0.        , 0.        ],\n",
              "        [0.        , 0.        , 0.        , 0.        , 0.        ,\n",
              "         0.        , 0.        , 0.        , 0.        , 0.        ,\n",
              "         1.        , 0.        , 0.        , 0.        , 0.        ,\n",
              "         0.        , 0.        , 0.81176471, 1.        , 0.        ,\n",
              "         0.        , 0.        , 0.        , 0.        , 0.        ,\n",
              "         0.        , 0.        , 0.        ],\n",
              "        [0.        , 0.        , 0.        , 0.        , 0.        ,\n",
              "         0.        , 0.        , 0.        , 0.        , 0.        ,\n",
              "         0.9372549 , 1.        , 1.        , 1.        , 1.        ,\n",
              "         1.        , 1.        , 0.9372549 , 1.        , 0.        ,\n",
              "         0.        , 0.        , 0.        , 0.        , 0.        ,\n",
              "         0.        , 0.        , 0.        ],\n",
              "        [0.        , 0.        , 0.        , 0.        , 0.        ,\n",
              "         0.        , 0.        , 0.        , 0.        , 0.        ,\n",
              "         0.        , 0.        , 0.        , 0.        , 0.        ,\n",
              "         0.        , 0.        , 0.        , 1.        , 0.        ,\n",
              "         0.        , 0.        , 0.        , 0.        , 0.        ,\n",
              "         0.        , 0.        , 0.        ],\n",
              "        [0.        , 0.        , 0.        , 0.        , 0.        ,\n",
              "         0.        , 0.        , 0.        , 0.        , 0.        ,\n",
              "         0.        , 0.        , 0.        , 0.        , 0.        ,\n",
              "         0.        , 0.        , 0.81176471, 0.9372549 , 0.        ,\n",
              "         0.        , 0.        , 0.        , 0.        , 0.        ,\n",
              "         0.        , 0.        , 0.        ],\n",
              "        [0.        , 0.        , 0.        , 0.        , 0.        ,\n",
              "         0.        , 0.        , 0.        , 0.        , 0.        ,\n",
              "         0.        , 0.        , 0.        , 0.        , 0.        ,\n",
              "         0.        , 0.        , 1.        , 0.        , 0.        ,\n",
              "         0.        , 0.        , 0.        , 0.        , 0.        ,\n",
              "         0.        , 0.        , 0.        ],\n",
              "        [0.        , 0.        , 0.        , 0.        , 0.        ,\n",
              "         0.        , 0.        , 0.        , 0.        , 0.        ,\n",
              "         0.        , 0.        , 0.        , 0.        , 0.        ,\n",
              "         0.        , 0.        , 1.        , 0.        , 0.        ,\n",
              "         0.        , 0.        , 0.        , 0.        , 0.        ,\n",
              "         0.        , 0.        , 0.        ],\n",
              "        [0.        , 0.        , 0.        , 0.        , 0.        ,\n",
              "         0.        , 0.        , 0.        , 0.        , 0.        ,\n",
              "         0.        , 0.        , 0.        , 0.        , 0.        ,\n",
              "         0.        , 0.        , 1.        , 0.        , 0.        ,\n",
              "         0.        , 0.        , 0.        , 0.        , 0.        ,\n",
              "         0.        , 0.        , 0.        ],\n",
              "        [0.        , 0.        , 0.        , 0.        , 0.        ,\n",
              "         0.        , 0.        , 0.        , 0.        , 0.        ,\n",
              "         0.        , 0.        , 0.        , 0.        , 0.        ,\n",
              "         0.        , 0.0627451 , 0.9372549 , 0.        , 0.        ,\n",
              "         0.        , 0.        , 0.        , 0.        , 0.        ,\n",
              "         0.        , 0.        , 0.        ],\n",
              "        [0.        , 0.        , 0.        , 0.        , 0.        ,\n",
              "         0.        , 0.        , 0.        , 0.        , 0.        ,\n",
              "         0.        , 0.        , 0.        , 0.        , 0.        ,\n",
              "         0.        , 0.81176471, 0.18823529, 0.        , 0.        ,\n",
              "         0.        , 0.        , 0.        , 0.        , 0.        ,\n",
              "         0.        , 0.        , 0.        ],\n",
              "        [0.        , 0.        , 0.        , 0.        , 0.        ,\n",
              "         0.        , 0.        , 0.        , 0.        , 0.        ,\n",
              "         0.        , 0.        , 0.        , 0.        , 0.        ,\n",
              "         0.        , 1.        , 0.        , 0.        , 0.        ,\n",
              "         0.        , 0.        , 0.        , 0.        , 0.        ,\n",
              "         0.        , 0.        , 0.        ],\n",
              "        [0.        , 0.        , 0.        , 0.        , 0.        ,\n",
              "         0.        , 0.        , 0.        , 0.        , 0.        ,\n",
              "         0.        , 0.        , 0.        , 0.        , 0.        ,\n",
              "         0.        , 1.        , 0.        , 0.        , 0.        ,\n",
              "         0.        , 0.        , 0.        , 0.        , 0.        ,\n",
              "         0.        , 0.        , 0.        ],\n",
              "        [0.        , 0.        , 0.        , 0.        , 0.        ,\n",
              "         0.        , 0.        , 0.        , 0.        , 0.        ,\n",
              "         0.        , 0.        , 0.        , 0.        , 0.        ,\n",
              "         0.        , 1.        , 0.        , 0.        , 0.        ,\n",
              "         0.        , 0.        , 0.        , 0.        , 0.        ,\n",
              "         0.        , 0.        , 0.        ],\n",
              "        [0.        , 0.        , 0.        , 0.        , 0.        ,\n",
              "         0.        , 0.        , 0.        , 0.        , 0.        ,\n",
              "         0.        , 0.        , 0.        , 0.        , 0.        ,\n",
              "         0.        , 1.        , 0.        , 0.        , 0.        ,\n",
              "         0.        , 0.        , 0.        , 0.        , 0.        ,\n",
              "         0.        , 0.        , 0.        ],\n",
              "        [0.        , 0.        , 0.        , 0.        , 0.        ,\n",
              "         0.        , 0.        , 0.        , 0.        , 0.        ,\n",
              "         0.        , 0.        , 0.        , 0.        , 0.        ,\n",
              "         0.        , 1.        , 0.        , 0.        , 0.        ,\n",
              "         0.        , 0.        , 0.        , 0.        , 0.        ,\n",
              "         0.        , 0.        , 0.        ],\n",
              "        [0.        , 0.        , 0.        , 0.        , 0.        ,\n",
              "         0.        , 0.        , 0.        , 0.        , 0.        ,\n",
              "         0.        , 0.        , 0.        , 0.        , 0.        ,\n",
              "         0.        , 1.        , 0.        , 0.        , 0.        ,\n",
              "         0.        , 0.        , 0.        , 0.        , 0.        ,\n",
              "         0.        , 0.        , 0.        ],\n",
              "        [0.        , 0.        , 0.        , 0.        , 0.        ,\n",
              "         0.        , 0.        , 0.        , 0.        , 0.        ,\n",
              "         0.        , 0.        , 0.        , 0.        , 0.        ,\n",
              "         0.        , 1.        , 0.        , 0.        , 0.        ,\n",
              "         0.        , 0.        , 0.        , 0.        , 0.        ,\n",
              "         0.        , 0.        , 0.        ],\n",
              "        [0.        , 0.        , 0.        , 0.        , 0.        ,\n",
              "         0.        , 0.        , 0.        , 0.        , 0.        ,\n",
              "         0.        , 0.        , 0.        , 0.        , 0.        ,\n",
              "         0.        , 0.8745098 , 0.        , 0.        , 0.        ,\n",
              "         0.        , 0.        , 0.        , 0.        , 0.        ,\n",
              "         0.        , 0.        , 0.        ],\n",
              "        [0.        , 0.        , 0.        , 0.        , 0.        ,\n",
              "         0.        , 0.        , 0.        , 0.        , 0.        ,\n",
              "         0.        , 0.        , 0.        , 0.        , 0.        ,\n",
              "         0.        , 0.        , 0.        , 0.        , 0.        ,\n",
              "         0.        , 0.        , 0.        , 0.        , 0.        ,\n",
              "         0.        , 0.        , 0.        ],\n",
              "        [0.        , 0.        , 0.        , 0.        , 0.        ,\n",
              "         0.        , 0.        , 0.        , 0.        , 0.        ,\n",
              "         0.        , 0.        , 0.        , 0.        , 0.        ,\n",
              "         0.        , 0.        , 0.        , 0.        , 0.        ,\n",
              "         0.        , 0.        , 0.        , 0.        , 0.        ,\n",
              "         0.        , 0.        , 0.        ]]])"
            ]
          },
          "metadata": {},
          "execution_count": 31
        }
      ],
      "source": [
        "img_norm = img/255.0\n",
        "img_norm"
      ]
    },
    {
      "cell_type": "code",
      "execution_count": null,
      "metadata": {
        "colab": {
          "base_uri": "https://localhost:8080/"
        },
        "id": "pL3l0OxSIp4i",
        "outputId": "44a38946-0999-4fa9-b1d3-0bbee9cf4cd4"
      },
      "outputs": [
        {
          "output_type": "stream",
          "name": "stdout",
          "text": [
            "1/1 [==============================] - 0s 19ms/step\n"
          ]
        }
      ],
      "source": [
        "y_probs_custom = model_2.predict(img_norm)"
      ]
    },
    {
      "cell_type": "code",
      "execution_count": null,
      "metadata": {
        "colab": {
          "base_uri": "https://localhost:8080/"
        },
        "id": "_RBWhs3eJV1q",
        "outputId": "f1282454-31c0-4965-d206-8289bbb63f3e"
      },
      "outputs": [
        {
          "output_type": "execute_result",
          "data": {
            "text/plain": [
              "(array([[8.6605520e-05, 3.5606466e-02, 7.2742379e-03, 1.5634827e-01,\n",
              "         4.3322486e-03, 4.4176863e-03, 1.8298169e-05, 7.8252697e-01,\n",
              "         4.0870053e-03, 5.3021889e-03]], dtype=float32),\n",
              " <tf.Tensor: shape=(), dtype=int64, numpy=7>)"
            ]
          },
          "metadata": {},
          "execution_count": 33
        }
      ],
      "source": [
        "y_probs_custom,tf.argmax(y_probs_custom[0])"
      ]
    },
    {
      "cell_type": "markdown",
      "metadata": {
        "id": "X1guzpuELtFy"
      },
      "source": [
        "## Creating functions to visualize the tests"
      ]
    },
    {
      "cell_type": "markdown",
      "metadata": {
        "id": "QG-0-oCgL8sq"
      },
      "source": [
        "Visualize the batch of images"
      ]
    },
    {
      "cell_type": "code",
      "execution_count": null,
      "metadata": {
        "id": "8KWZVxYQL6FV"
      },
      "outputs": [],
      "source": [
        "\n",
        "import matplotlib.pyplot as plt\n",
        "import matplotlib.image as mpimg\n",
        "import random\n",
        "import pathlib\n",
        "import numpy as np\n",
        "\n",
        "def view_all_images():\n",
        "  images = []\n",
        "  # Setup the target directory (we'll view images from here)\n",
        "  target_folder = \"/content/drive/MyDrive/AI/DeepLearning/DigitsClassification_CustomTest/digits\"\n",
        "\n",
        "  for i in range(10):\n",
        "    img_path = f'{target_folder}/d{i}.png'\n",
        "    img = cv2.imread(img_path)[:,:,0]\n",
        "    img = np.invert(np.array([img]))\n",
        "    images.append(img)\n",
        "\n",
        "  return images"
      ]
    },
    {
      "cell_type": "code",
      "execution_count": null,
      "metadata": {
        "id": "oWJtPLAmc5Ad"
      },
      "outputs": [],
      "source": [
        "def showImages(images):\n",
        "  plt.figure(figsize=(12,6))\n",
        "  for index in range(10):\n",
        "    plt.subplot(1,10,index+1)\n",
        "    plt.imshow(images[index].reshape(28,28), cmap=plt.cm.binary)\n",
        "    plt.axis(\"off\")\n",
        "    plt.title(index) # Show the shape of the image"
      ]
    },
    {
      "cell_type": "code",
      "execution_count": null,
      "metadata": {
        "colab": {
          "base_uri": "https://localhost:8080/",
          "height": 138
        },
        "id": "jYHrbC8MMxh2",
        "outputId": "17064d62-5e34-4d13-ac5c-b5bc437c45ae"
      },
      "outputs": [
        {
          "output_type": "display_data",
          "data": {
            "text/plain": [
              "<Figure size 1200x600 with 10 Axes>"
            ],
            "image/png": "[encoded data removed]"
          },
          "metadata": {}
        }
      ],
      "source": [
        "images = view_all_images()\n",
        "showImages(images)"
      ]
    },
    {
      "cell_type": "markdown",
      "metadata": {
        "id": "-ZImzR4sPZs2"
      },
      "source": [
        "Normalizing the images"
      ]
    },
    {
      "cell_type": "code",
      "execution_count": null,
      "metadata": {
        "id": "LjyvfFPqPZLA"
      },
      "outputs": [],
      "source": [
        "def normImages(images):\n",
        "  img_norm = []\n",
        "  for i in range(10):\n",
        "    img_norm.append(images[i]/255)\n",
        "\n",
        "  return img_norm"
      ]
    },
    {
      "cell_type": "code",
      "execution_count": null,
      "metadata": {
        "id": "vybZZstrQCYV"
      },
      "outputs": [],
      "source": [
        "img_norm = normImages(images)\n"
      ]
    },
    {
      "cell_type": "code",
      "execution_count": null,
      "metadata": {
        "id": "Xrp_ZeW3PP_Y"
      },
      "outputs": [],
      "source": [
        "def plotPredictionWTrue(model):\n",
        "  images = view_all_images()\n",
        "  img_norm = normImages(images)\n",
        "  img_norm_reshaped = tf.reshape(img_norm, (-1, 28, 28))\n",
        "\n",
        "\n",
        "  y_probs_f = model.predict(img_norm_reshaped)\n",
        "\n",
        "  plt.figure(figsize=(12,6))\n",
        "  for i in range(10):\n",
        "    plt.subplot(1,10,i+1)\n",
        "    plt.imshow(img_norm[i].reshape(28,28))\n",
        "    plt.title(f'{tf.argmax(y_probs_f[i])}')\n",
        "    plt.axis(False)\n"
      ]
    },
    {
      "cell_type": "markdown",
      "metadata": {
        "id": "g9VSfZf1L1NJ"
      },
      "source": [
        "## Testing the model with custom data"
      ]
    },
    {
      "cell_type": "code",
      "execution_count": null,
      "metadata": {
        "colab": {
          "base_uri": "https://localhost:8080/",
          "height": 155
        },
        "id": "2Op0sV2LRICl",
        "outputId": "176a5199-096c-49d2-c13a-2b656e19b72f"
      },
      "outputs": [
        {
          "output_type": "stream",
          "name": "stdout",
          "text": [
            "1/1 [==============================] - 0s 52ms/step\n"
          ]
        },
        {
          "output_type": "display_data",
          "data": {
            "text/plain": [
              "<Figure size 1200x600 with 10 Axes>"
            ],
            "image/png": "[encoded data removed]"
          },
          "metadata": {}
        }
      ],
      "source": [
        "plotPredictionWTrue(model_2)"
      ]
    },
    {
      "cell_type": "markdown",
      "source": [
        "# Trying using a covnet\n"
      ],
      "metadata": {
        "id": "U61NRPXbF3ev"
      }
    },
    {
      "cell_type": "markdown",
      "source": [
        "## Importing the Images"
      ],
      "metadata": {
        "id": "16_9SR_PKqNO"
      }
    },
    {
      "cell_type": "code",
      "source": [
        "from keras.datasets import mnist\n",
        "from keras.utils import to_categorical\n",
        "import numpy as np\n",
        "\n",
        "(train_images, train_labels), (test_images, test_labels) = mnist.load_data()\n"
      ],
      "metadata": {
        "id": "tfI9m3hGb5qI",
        "colab": {
          "base_uri": "https://localhost:8080/"
        },
        "outputId": "187c720b-faa8-4e10-ec5b-cd207ffe3cd0"
      },
      "execution_count": 1,
      "outputs": [
        {
          "output_type": "stream",
          "name": "stdout",
          "text": [
            "Downloading data from https://storage.googleapis.com/tensorflow/tf-keras-datasets/mnist.npz\n",
            "11490434/11490434 [==============================] - 0s 0us/step\n"
          ]
        }
      ]
    },
    {
      "cell_type": "markdown",
      "source": [
        "## Using `ImageDataGenerator` to create the train_data and test_data, dividing the data into batches and rescaling the images to set values between 0 and 1."
      ],
      "metadata": {
        "id": "j5Iefq9bKt9Y"
      }
    },
    {
      "cell_type": "code",
      "source": [
        "from tensorflow.keras.preprocessing.image import ImageDataGenerator\n",
        "# Create ImageDataGenerator training instance with data augmentation\n",
        "train_datagen = ImageDataGenerator(rescale=1/255)\n",
        "test_datagen = ImageDataGenerator(rescale=1/255)"
      ],
      "metadata": {
        "id": "TQbgfxBHVrFi"
      },
      "execution_count": 2,
      "outputs": []
    },
    {
      "cell_type": "code",
      "source": [
        "train_data = train_datagen.flow(np.expand_dims(train_images, axis=-1),# Target directory of images\n",
        "                                train_labels,\n",
        "                                batch_size=32)\n",
        "\n",
        "test_data = test_datagen.flow(np.expand_dims(test_images, axis=-1),# Target directory of images\n",
        "                                test_labels,\n",
        "                                batch_size=32)\n"
      ],
      "metadata": {
        "id": "4aQ1IFU0WdQi"
      },
      "execution_count": 3,
      "outputs": []
    },
    {
      "cell_type": "markdown",
      "source": [
        "## Creating our CNN"
      ],
      "metadata": {
        "id": "nsOgD5FSLDma"
      }
    },
    {
      "cell_type": "code",
      "source": [
        "import tensorflow as tf\n",
        "\n",
        "\n",
        "#set the seed\n",
        "tf.random.set_seed(42)\n",
        "\n",
        "model_3 = tf.keras.models.Sequential([\n",
        "\n",
        "    tf.keras.layers.Conv2D(filters=32,\n",
        "                           kernel_size=(3,3),\n",
        "                           activation=\"relu\",\n",
        "                           input_shape=(28,28,1)),\n",
        "\n",
        "    tf.keras.layers.MaxPool2D((2,2)),\n",
        "    tf.keras.layers.Conv2D(64,(3,3),activation=\"relu\"),\n",
        "    tf.keras.layers.Conv2D(10,3,activation=\"relu\"),\n",
        "    tf.keras.layers.MaxPool2D((2,2)),\n",
        "    tf.keras.layers.Flatten(),\n",
        "    tf.keras.layers.Dense(64, activation='relu'),\n",
        "    tf.keras.layers.Dense(10,activation=\"softmax\")\n",
        "])\n",
        "\n",
        "# Compile our CNN\n",
        "model_3.compile(loss=tf.keras.losses.SparseCategoricalCrossentropy(),\n",
        "                optimizer=tf.keras.optimizers.Adam(learning_rate=0.001),\n",
        "                metrics=[\"accuracy\"])\n",
        "\n",
        "# Fit the model\n",
        "history_3 = model_3.fit(train_data,\n",
        "                        epochs=3,\n",
        "                        batch_size=32,\n",
        "                        steps_per_epoch=len(train_data))"
      ],
      "metadata": {
        "colab": {
          "base_uri": "https://localhost:8080/"
        },
        "id": "fUeGJGQZF7AI",
        "outputId": "ddf7d388-04be-470f-f3a9-86781d6761d7"
      },
      "execution_count": 4,
      "outputs": [
        {
          "output_type": "stream",
          "name": "stdout",
          "text": [
            "Epoch 1/3\n",
            "1875/1875 [==============================] - 74s 38ms/step - loss: 0.1771 - accuracy: 0.9449\n",
            "Epoch 2/3\n",
            "1875/1875 [==============================] - 75s 40ms/step - loss: 0.0578 - accuracy: 0.9822\n",
            "Epoch 3/3\n",
            "1875/1875 [==============================] - 71s 38ms/step - loss: 0.0418 - accuracy: 0.9871\n"
          ]
        }
      ]
    },
    {
      "cell_type": "markdown",
      "source": [
        "We can see that our model is perfoming well on training data, let's evaluate it to see how's our model behavior with test data and see if our model hasn't been **overfitted**."
      ],
      "metadata": {
        "id": "Y2kdwhjoLIN1"
      }
    },
    {
      "cell_type": "code",
      "source": [
        "model_3.evaluate(test_data)"
      ],
      "metadata": {
        "colab": {
          "base_uri": "https://localhost:8080/"
        },
        "id": "ZL1C8eBlAqzB",
        "outputId": "f89cd03e-4051-4037-9fcd-897268faca3c"
      },
      "execution_count": 5,
      "outputs": [
        {
          "output_type": "stream",
          "name": "stdout",
          "text": [
            "313/313 [==============================] - 8s 23ms/step - loss: 0.0507 - accuracy: 0.9842\n"
          ]
        },
        {
          "output_type": "execute_result",
          "data": {
            "text/plain": [
              "[0.0507124662399292, 0.9842000007629395]"
            ]
          },
          "metadata": {},
          "execution_count": 5
        }
      ]
    },
    {
      "cell_type": "markdown",
      "source": [
        "We got a **98.0% of accuracy** and it tell us that our model is working good, so let's try our model with custom data that we have created."
      ],
      "metadata": {
        "id": "FbBzl8sqLnv1"
      }
    },
    {
      "cell_type": "markdown",
      "source": [
        "### Testing with custom Data"
      ],
      "metadata": {
        "id": "oB5W4NhqL2On"
      }
    },
    {
      "cell_type": "markdown",
      "source": [
        "I create the images in paint with size (28,28) and then i upload them to my drive.\n",
        "\n"
      ],
      "metadata": {
        "id": "o1dTcgQiL_3t"
      }
    },
    {
      "cell_type": "markdown",
      "source": [
        "![image.png](data:image/png;base64,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)\n",
        "\n",
        "![image.png](data:image/png;base64,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)"
      ],
      "metadata": {
        "id": "5TPFIr3uMonf"
      }
    },
    {
      "cell_type": "code",
      "source": [
        "plt.imshow(load_and_prep_image(img_folder))"
      ],
      "metadata": {
        "colab": {
          "base_uri": "https://localhost:8080/",
          "height": 448
        },
        "id": "yx1u9i6WClYV",
        "outputId": "ce22095c-010c-4ba8-b3e0-63e66e51a210"
      },
      "execution_count": 98,
      "outputs": [
        {
          "output_type": "execute_result",
          "data": {
            "text/plain": [
              "<matplotlib.image.AxesImage at 0x78f3a2a97eb0>"
            ]
          },
          "metadata": {},
          "execution_count": 98
        },
        {
          "output_type": "display_data",
          "data": {
            "text/plain": [
              "<Figure size 640x480 with 1 Axes>"
            ],
            "image/png": "[encoded data removed]"
          },
          "metadata": {}
        }
      ]
    },
    {
      "cell_type": "code",
      "source": [
        "class_names=[0,1,2,3,4,5,6,7,8,9]"
      ],
      "metadata": {
        "id": "_xYq5EVscCSz"
      },
      "execution_count": 14,
      "outputs": []
    },
    {
      "cell_type": "markdown",
      "source": [
        "### Creating the functions to plot our model predictions."
      ],
      "metadata": {
        "id": "XLilLilhM_jv"
      }
    },
    {
      "cell_type": "code",
      "source": [
        "# Create a function to import an image and resize it to be able to be used with our model\n",
        "import tensorflow as tf\n",
        "def load_and_prep_image(filename, img_shape=28):\n",
        "\n",
        "  img = tf.io.read_file(filename)\n",
        "\n",
        "  # Decode the read file into a tensor\n",
        "  img = tf.image.decode_image(img)\n",
        "\n",
        "  img = tf.image.rgb_to_grayscale(img)\n",
        "\n",
        "  #Resize the image\n",
        "  img = tf.image.resize(img,size = [img_shape,img_shape])\n",
        "\n",
        "  # Rescale the image (get all values between 0 and 1)\n",
        "  img = img/255.\n",
        "\n",
        "  img = tf.math.subtract(1, img)\n",
        "\n",
        "  return img"
      ],
      "metadata": {
        "id": "sH7ayA_kcvdR"
      },
      "execution_count": 17,
      "outputs": []
    },
    {
      "cell_type": "code",
      "source": [
        "def pred_and_plot(model,filename,class_names=class_names,true_class=0):\n",
        "  img = load_and_prep_image(filename)\n",
        "\n",
        "  pred = model.predict(tf.expand_dims(img,axis=0))\n",
        "\n",
        "  pred_class = class_names[pred.argmax()]\n",
        "\n",
        "  plt.imshow(img,cmap=plt.cm.binary)\n",
        "\n",
        "  pred_value = pred*100\n",
        "\n",
        "  if pred_class == true_class:\n",
        "    color = \"green\"\n",
        "\n",
        "  else:\n",
        "    color = \"red\"\n",
        "\n",
        "  #Add xlabel information(prediction/true label)\n",
        "  plt.title(\"Model Prediction: {}, True Value: {})\".format(pred_class,true_class),color=color)\n",
        "  plt.axis(False)\n"
      ],
      "metadata": {
        "id": "tijKjyIXasQm"
      },
      "execution_count": 92,
      "outputs": []
    },
    {
      "cell_type": "code",
      "source": [
        "import math\n",
        "def plot_all_digits_predictions(model,images_dir,class_names=class_names):\n",
        "\n",
        "  plt.figure(figsize=(20,6))\n",
        "  for i in range(10):\n",
        "    # Calcular el número de fila y columna para el subplot\n",
        "    fila = math.floor(i / 5) + 1\n",
        "    columna = (i % 5) + 1\n",
        "    plt.subplot(2, 5, (fila - 1) * 5 + columna)\n",
        "    print(f'{images_dir}/d{i}.png')\n",
        "    pred_and_plot(model,f'{images_dir}/d{i}.png',true_class=i)\n"
      ],
      "metadata": {
        "id": "64OQV66ZEg4I"
      },
      "execution_count": 96,
      "outputs": []
    },
    {
      "cell_type": "markdown",
      "source": [
        "## Ploting our model predictions with our custom data"
      ],
      "metadata": {
        "id": "xi-r1Y-mNFz_"
      }
    },
    {
      "cell_type": "code",
      "source": [
        "img_dir = \"/content/drive/MyDrive/AI/DeepLearning/DigitsClassification_CustomTest/digits\""
      ],
      "metadata": {
        "id": "3jd-t1tmE3VW"
      },
      "execution_count": 90,
      "outputs": []
    },
    {
      "cell_type": "markdown",
      "source": [
        "**Pedictions with our Convolutional Neural Network model**"
      ],
      "metadata": {
        "id": "sxdn6esyOrjW"
      }
    },
    {
      "cell_type": "code",
      "source": [
        "plot_all_digits_predictions(model_3,img_dir)"
      ],
      "metadata": {
        "colab": {
          "base_uri": "https://localhost:8080/",
          "height": 890
        },
        "id": "fHHyW_UnHpAb",
        "outputId": "9d4cba30-b1b2-4e30-8db3-09cd31591638"
      },
      "execution_count": 97,
      "outputs": [
        {
          "output_type": "stream",
          "name": "stdout",
          "text": [
            "/content/drive/MyDrive/AI/DeepLearning/DigitsClassification_CustomTest/digits/d0.png\n",
            "1/1 [==============================] - 0s 79ms/step\n",
            "/content/drive/MyDrive/AI/DeepLearning/DigitsClassification_CustomTest/digits/d1.png\n",
            "1/1 [==============================] - 0s 83ms/step\n",
            "/content/drive/MyDrive/AI/DeepLearning/DigitsClassification_CustomTest/digits/d2.png\n",
            "1/1 [==============================] - 0s 95ms/step\n",
            "/content/drive/MyDrive/AI/DeepLearning/DigitsClassification_CustomTest/digits/d3.png\n",
            "1/1 [==============================] - 0s 54ms/step\n",
            "/content/drive/MyDrive/AI/DeepLearning/DigitsClassification_CustomTest/digits/d4.png\n",
            "1/1 [==============================] - 0s 76ms/step\n",
            "/content/drive/MyDrive/AI/DeepLearning/DigitsClassification_CustomTest/digits/d5.png\n",
            "1/1 [==============================] - 0s 65ms/step\n",
            "/content/drive/MyDrive/AI/DeepLearning/DigitsClassification_CustomTest/digits/d6.png\n",
            "1/1 [==============================] - 0s 44ms/step\n",
            "/content/drive/MyDrive/AI/DeepLearning/DigitsClassification_CustomTest/digits/d7.png\n",
            "1/1 [==============================] - 0s 38ms/step\n",
            "/content/drive/MyDrive/AI/DeepLearning/DigitsClassification_CustomTest/digits/d8.png\n",
            "1/1 [==============================] - 0s 50ms/step\n",
            "/content/drive/MyDrive/AI/DeepLearning/DigitsClassification_CustomTest/digits/d9.png\n",
            "1/1 [==============================] - 0s 48ms/step\n"
          ]
        },
        {
          "output_type": "display_data",
          "data": {
            "text/plain": [
              "<Figure size 2000x600 with 10 Axes>"
            ],
            "image/png": "[encoded data removed]"
          },
          "metadata": {}
        }
      ]
    },
    {
      "cell_type": "markdown",
      "source": [
        "**Predictions with our Neural Network**"
      ],
      "metadata": {
        "id": "N10-Oc0IO34z"
      }
    },
    {
      "cell_type": "code",
      "source": [
        "plot_all_digits_predictions(model_2,img_dir)"
      ],
      "metadata": {
        "colab": {
          "base_uri": "https://localhost:8080/",
          "height": 890
        },
        "id": "vBjo0ZDuNVet",
        "outputId": "b5ca87e1-36e1-4702-c791-96163245497b"
      },
      "execution_count": 107,
      "outputs": [
        {
          "output_type": "stream",
          "name": "stdout",
          "text": [
            "/content/drive/MyDrive/AI/DeepLearning/DigitsClassification_CustomTest/digits/d0.png\n",
            "1/1 [==============================] - 0s 68ms/step\n",
            "/content/drive/MyDrive/AI/DeepLearning/DigitsClassification_CustomTest/digits/d1.png\n",
            "1/1 [==============================] - 0s 26ms/step\n",
            "/content/drive/MyDrive/AI/DeepLearning/DigitsClassification_CustomTest/digits/d2.png\n",
            "1/1 [==============================] - 0s 26ms/step\n",
            "/content/drive/MyDrive/AI/DeepLearning/DigitsClassification_CustomTest/digits/d3.png\n",
            "1/1 [==============================] - 0s 27ms/step\n",
            "/content/drive/MyDrive/AI/DeepLearning/DigitsClassification_CustomTest/digits/d4.png\n",
            "1/1 [==============================] - 0s 35ms/step\n",
            "/content/drive/MyDrive/AI/DeepLearning/DigitsClassification_CustomTest/digits/d5.png\n",
            "1/1 [==============================] - 0s 28ms/step\n",
            "/content/drive/MyDrive/AI/DeepLearning/DigitsClassification_CustomTest/digits/d6.png\n",
            "1/1 [==============================] - 0s 25ms/step\n",
            "/content/drive/MyDrive/AI/DeepLearning/DigitsClassification_CustomTest/digits/d7.png\n",
            "1/1 [==============================] - 0s 24ms/step\n",
            "/content/drive/MyDrive/AI/DeepLearning/DigitsClassification_CustomTest/digits/d8.png\n",
            "1/1 [==============================] - 0s 23ms/step\n",
            "/content/drive/MyDrive/AI/DeepLearning/DigitsClassification_CustomTest/digits/d9.png\n",
            "1/1 [==============================] - 0s 24ms/step\n"
          ]
        },
        {
          "output_type": "display_data",
          "data": {
            "text/plain": [
              "<Figure size 2000x600 with 10 Axes>"
            ],
            "image/png": "[encoded data removed]"
          },
          "metadata": {}
        }
      ]
    },
    {
      "cell_type": "markdown",
      "source": [
        "# Conclusions\n",
        "After importing and being one with the data we built 3 models, our model_2 archived 98.8% of accuracy, but in our test with the custom data that we created it didn't perform really well, so we tried building a Convolutional Neural Network and we got 98.4% of accuracy in our test data, and when we compare our CNN with our NN the difference was so clear, our CNN performs too well with our custom data giving us a 100% of accuracy while our NN gave a 60%.\n",
        "\n",
        "So we can conclude that the **CNN's perfoms a way too better with images compared to a NN**."
      ],
      "metadata": {
        "id": "2D0-xXxBR0e_"
      }
    }
  ],
  "metadata": {
    "colab": {
      "provenance": [],
      "toc_visible": true,
      "mount_file_id": "17sVD-fwvjZiOTrKXjusrBTiCfTAuVioM",
      "authorship_tag": "ABX9TyPL/lSKepR8sdQ+ndXjmInD"
    },
    "kernelspec": {
      "display_name": "Python 3",
      "name": "python3"
    },
    "language_info": {
      "name": "python"
    }
  },
  "nbformat": 4,
  "nbformat_minor": 0
}